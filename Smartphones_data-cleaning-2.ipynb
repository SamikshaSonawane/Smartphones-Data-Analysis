{
 "cells": [
  {
   "cell_type": "code",
   "execution_count": 1,
   "id": "8ced0eff-197d-4002-9913-c342be37adca",
   "metadata": {},
   "outputs": [],
   "source": [
    "import pandas as pd\n",
    "import numpy as np\n",
    "import seaborn as sns\n",
    "import matplotlib.pyplot as plt"
   ]
  },
  {
   "cell_type": "code",
   "execution_count": 2,
   "id": "dbdccfc5-ce18-493d-9f97-6a95218a9516",
   "metadata": {},
   "outputs": [],
   "source": [
    "pd.set_option('display.max_columns',None)\n",
    "pd.set_option('display.max_rows',None)"
   ]
  },
  {
   "cell_type": "code",
   "execution_count": 3,
   "id": "29dd8e09-e2b9-40f8-ab37-2aa2005b7e87",
   "metadata": {},
   "outputs": [],
   "source": [
    "df = pd.read_csv('smartphone_cleaned_v2.csv1')"
   ]
  },
  {
   "cell_type": "code",
   "execution_count": 4,
   "id": "58636338-1087-4539-8a24-b180315b1c35",
   "metadata": {},
   "outputs": [
    {
     "data": {
      "text/html": [
       "<div>\n",
       "<style scoped>\n",
       "    .dataframe tbody tr th:only-of-type {\n",
       "        vertical-align: middle;\n",
       "    }\n",
       "\n",
       "    .dataframe tbody tr th {\n",
       "        vertical-align: top;\n",
       "    }\n",
       "\n",
       "    .dataframe thead th {\n",
       "        text-align: right;\n",
       "    }\n",
       "</style>\n",
       "<table border=\"1\" class=\"dataframe\">\n",
       "  <thead>\n",
       "    <tr style=\"text-align: right;\">\n",
       "      <th></th>\n",
       "      <th>brand_name</th>\n",
       "      <th>model</th>\n",
       "      <th>price</th>\n",
       "      <th>rating</th>\n",
       "      <th>has_5G</th>\n",
       "      <th>has_nfc</th>\n",
       "      <th>has_ir_blaster</th>\n",
       "      <th>processor_name</th>\n",
       "      <th>processor_brand</th>\n",
       "      <th>core</th>\n",
       "      <th>processor_speed</th>\n",
       "      <th>ram_capacity</th>\n",
       "      <th>internal_memory</th>\n",
       "      <th>battery_capacity</th>\n",
       "      <th>fast_charging</th>\n",
       "      <th>screen_size</th>\n",
       "      <th>resolution</th>\n",
       "      <th>refresh_rate</th>\n",
       "      <th>num_rear_cameras</th>\n",
       "      <th>num_front_cameras</th>\n",
       "      <th>primary_camera_rear</th>\n",
       "      <th>primary_camera_front</th>\n",
       "      <th>os</th>\n",
       "      <th>extended_memory</th>\n",
       "    </tr>\n",
       "  </thead>\n",
       "  <tbody>\n",
       "    <tr>\n",
       "      <th>0</th>\n",
       "      <td>oneplus</td>\n",
       "      <td>OnePlus 11 5G</td>\n",
       "      <td>54999</td>\n",
       "      <td>89.0</td>\n",
       "      <td>True</td>\n",
       "      <td>True</td>\n",
       "      <td>False</td>\n",
       "      <td>Snapdragon 8 Gen2</td>\n",
       "      <td>Snapdragon</td>\n",
       "      <td>Octa Core</td>\n",
       "      <td>3.2</td>\n",
       "      <td>12.0</td>\n",
       "      <td>256.0</td>\n",
       "      <td>5000.0</td>\n",
       "      <td>100</td>\n",
       "      <td>6.70</td>\n",
       "      <td>1440 x 3216</td>\n",
       "      <td>120</td>\n",
       "      <td>3</td>\n",
       "      <td>1</td>\n",
       "      <td>50.0</td>\n",
       "      <td>16</td>\n",
       "      <td>android</td>\n",
       "      <td>0</td>\n",
       "    </tr>\n",
       "    <tr>\n",
       "      <th>1</th>\n",
       "      <td>oneplus</td>\n",
       "      <td>OnePlus Nord CE 2 Lite 5G</td>\n",
       "      <td>19989</td>\n",
       "      <td>81.0</td>\n",
       "      <td>True</td>\n",
       "      <td>False</td>\n",
       "      <td>False</td>\n",
       "      <td>Snapdragon 695</td>\n",
       "      <td>Snapdragon</td>\n",
       "      <td>Octa Core</td>\n",
       "      <td>2.2</td>\n",
       "      <td>6.0</td>\n",
       "      <td>128.0</td>\n",
       "      <td>5000.0</td>\n",
       "      <td>33</td>\n",
       "      <td>6.59</td>\n",
       "      <td>1080 x 2412</td>\n",
       "      <td>120</td>\n",
       "      <td>3</td>\n",
       "      <td>1</td>\n",
       "      <td>64.0</td>\n",
       "      <td>16</td>\n",
       "      <td>android</td>\n",
       "      <td>1 TB</td>\n",
       "    </tr>\n",
       "    <tr>\n",
       "      <th>2</th>\n",
       "      <td>samsung</td>\n",
       "      <td>Samsung Galaxy A14 5G</td>\n",
       "      <td>16499</td>\n",
       "      <td>75.0</td>\n",
       "      <td>True</td>\n",
       "      <td>False</td>\n",
       "      <td>False</td>\n",
       "      <td>Exynos 1330</td>\n",
       "      <td>Exynos</td>\n",
       "      <td>Octa Core</td>\n",
       "      <td>2.4</td>\n",
       "      <td>4.0</td>\n",
       "      <td>64.0</td>\n",
       "      <td>5000.0</td>\n",
       "      <td>15</td>\n",
       "      <td>6.60</td>\n",
       "      <td>1080 x 2408</td>\n",
       "      <td>90</td>\n",
       "      <td>3</td>\n",
       "      <td>1</td>\n",
       "      <td>50.0</td>\n",
       "      <td>13</td>\n",
       "      <td>android</td>\n",
       "      <td>1 TB</td>\n",
       "    </tr>\n",
       "    <tr>\n",
       "      <th>3</th>\n",
       "      <td>motorola</td>\n",
       "      <td>Motorola Moto G62 5G</td>\n",
       "      <td>14999</td>\n",
       "      <td>81.0</td>\n",
       "      <td>True</td>\n",
       "      <td>False</td>\n",
       "      <td>False</td>\n",
       "      <td>Snapdragon  695</td>\n",
       "      <td>Snapdragon</td>\n",
       "      <td>Octa Core</td>\n",
       "      <td>2.2</td>\n",
       "      <td>6.0</td>\n",
       "      <td>128.0</td>\n",
       "      <td>5000.0</td>\n",
       "      <td>0</td>\n",
       "      <td>6.55</td>\n",
       "      <td>1080 x 2400</td>\n",
       "      <td>120</td>\n",
       "      <td>3</td>\n",
       "      <td>1</td>\n",
       "      <td>50.0</td>\n",
       "      <td>16</td>\n",
       "      <td>android</td>\n",
       "      <td>1 TB</td>\n",
       "    </tr>\n",
       "    <tr>\n",
       "      <th>4</th>\n",
       "      <td>realme</td>\n",
       "      <td>Realme 10 Pro Plus</td>\n",
       "      <td>24999</td>\n",
       "      <td>82.0</td>\n",
       "      <td>True</td>\n",
       "      <td>False</td>\n",
       "      <td>False</td>\n",
       "      <td>Dimensity 1080</td>\n",
       "      <td>Dimensity</td>\n",
       "      <td>Octa Core</td>\n",
       "      <td>2.6</td>\n",
       "      <td>6.0</td>\n",
       "      <td>128.0</td>\n",
       "      <td>5000.0</td>\n",
       "      <td>67</td>\n",
       "      <td>6.70</td>\n",
       "      <td>1080 x 2412</td>\n",
       "      <td>120</td>\n",
       "      <td>3</td>\n",
       "      <td>1</td>\n",
       "      <td>108.0</td>\n",
       "      <td>16</td>\n",
       "      <td>android</td>\n",
       "      <td>0</td>\n",
       "    </tr>\n",
       "  </tbody>\n",
       "</table>\n",
       "</div>"
      ],
      "text/plain": [
       "  brand_name                      model  price  rating  has_5G  has_nfc  \\\n",
       "0    oneplus              OnePlus 11 5G  54999    89.0    True     True   \n",
       "1    oneplus  OnePlus Nord CE 2 Lite 5G  19989    81.0    True    False   \n",
       "2    samsung      Samsung Galaxy A14 5G  16499    75.0    True    False   \n",
       "3   motorola       Motorola Moto G62 5G  14999    81.0    True    False   \n",
       "4     realme         Realme 10 Pro Plus  24999    82.0    True    False   \n",
       "\n",
       "   has_ir_blaster     processor_name processor_brand       core  \\\n",
       "0           False  Snapdragon 8 Gen2      Snapdragon  Octa Core   \n",
       "1           False     Snapdragon 695      Snapdragon  Octa Core   \n",
       "2           False        Exynos 1330          Exynos  Octa Core   \n",
       "3           False    Snapdragon  695      Snapdragon  Octa Core   \n",
       "4           False     Dimensity 1080       Dimensity  Octa Core   \n",
       "\n",
       "   processor_speed  ram_capacity  internal_memory  battery_capacity  \\\n",
       "0              3.2          12.0            256.0            5000.0   \n",
       "1              2.2           6.0            128.0            5000.0   \n",
       "2              2.4           4.0             64.0            5000.0   \n",
       "3              2.2           6.0            128.0            5000.0   \n",
       "4              2.6           6.0            128.0            5000.0   \n",
       "\n",
       "   fast_charging  screen_size    resolution  refresh_rate  num_rear_cameras  \\\n",
       "0            100         6.70  1440 x 3216            120                 3   \n",
       "1             33         6.59  1080 x 2412            120                 3   \n",
       "2             15         6.60  1080 x 2408             90                 3   \n",
       "3              0         6.55  1080 x 2400            120                 3   \n",
       "4             67         6.70  1080 x 2412            120                 3   \n",
       "\n",
       "  num_front_cameras  primary_camera_rear primary_camera_front       os  \\\n",
       "0                 1                 50.0                   16  android   \n",
       "1                 1                 64.0                   16  android   \n",
       "2                 1                 50.0                   13  android   \n",
       "3                 1                 50.0                   16  android   \n",
       "4                 1                108.0                   16  android   \n",
       "\n",
       "  extended_memory  \n",
       "0               0  \n",
       "1            1 TB  \n",
       "2            1 TB  \n",
       "3            1 TB  \n",
       "4               0  "
      ]
     },
     "execution_count": 4,
     "metadata": {},
     "output_type": "execute_result"
    }
   ],
   "source": [
    "df.head()"
   ]
  },
  {
   "cell_type": "code",
   "execution_count": 5,
   "id": "5889f262-9f9a-431c-afe2-b0cfd668ac04",
   "metadata": {},
   "outputs": [
    {
     "data": {
      "text/plain": [
       "(980, 24)"
      ]
     },
     "execution_count": 5,
     "metadata": {},
     "output_type": "execute_result"
    }
   ],
   "source": [
    "df.shape"
   ]
  },
  {
   "cell_type": "code",
   "execution_count": 6,
   "id": "926fb2c0-3814-49d8-9026-866d7bbbd05e",
   "metadata": {},
   "outputs": [
    {
     "name": "stdout",
     "output_type": "stream",
     "text": [
      "<class 'pandas.core.frame.DataFrame'>\n",
      "RangeIndex: 980 entries, 0 to 979\n",
      "Data columns (total 24 columns):\n",
      " #   Column                Non-Null Count  Dtype  \n",
      "---  ------                --------------  -----  \n",
      " 0   brand_name            980 non-null    object \n",
      " 1   model                 980 non-null    object \n",
      " 2   price                 980 non-null    int64  \n",
      " 3   rating                879 non-null    float64\n",
      " 4   has_5G                980 non-null    bool   \n",
      " 5   has_nfc               980 non-null    bool   \n",
      " 6   has_ir_blaster        980 non-null    bool   \n",
      " 7   processor_name        960 non-null    object \n",
      " 8   processor_brand       960 non-null    object \n",
      " 9   core                  974 non-null    object \n",
      " 10  processor_speed       938 non-null    float64\n",
      " 11  ram_capacity          980 non-null    float64\n",
      " 12  internal_memory       980 non-null    float64\n",
      " 13  battery_capacity      969 non-null    float64\n",
      " 14  fast_charging         980 non-null    int64  \n",
      " 15  screen_size           980 non-null    float64\n",
      " 16  resolution            980 non-null    object \n",
      " 17  refresh_rate          980 non-null    int64  \n",
      " 18  num_rear_cameras      980 non-null    int64  \n",
      " 19  num_front_cameras     980 non-null    object \n",
      " 20  primary_camera_rear   980 non-null    float64\n",
      " 21  primary_camera_front  976 non-null    object \n",
      " 22  os                    966 non-null    object \n",
      " 23  extended_memory       980 non-null    object \n",
      "dtypes: bool(3), float64(7), int64(4), object(10)\n",
      "memory usage: 163.8+ KB\n"
     ]
    }
   ],
   "source": [
    "df.info()"
   ]
  },
  {
   "cell_type": "code",
   "execution_count": 7,
   "id": "c1e5c1b1-e6e7-409e-9a52-1c3e3b44c1f8",
   "metadata": {},
   "outputs": [
    {
     "data": {
      "text/plain": [
       "brand_name                0\n",
       "model                     0\n",
       "price                     0\n",
       "rating                  101\n",
       "has_5G                    0\n",
       "has_nfc                   0\n",
       "has_ir_blaster            0\n",
       "processor_name           20\n",
       "processor_brand          20\n",
       "core                      6\n",
       "processor_speed          42\n",
       "ram_capacity              0\n",
       "internal_memory           0\n",
       "battery_capacity         11\n",
       "fast_charging             0\n",
       "screen_size               0\n",
       "resolution                0\n",
       "refresh_rate              0\n",
       "num_rear_cameras          0\n",
       "num_front_cameras         0\n",
       "primary_camera_rear       0\n",
       "primary_camera_front      4\n",
       "os                       14\n",
       "extended_memory           0\n",
       "dtype: int64"
      ]
     },
     "execution_count": 7,
     "metadata": {},
     "output_type": "execute_result"
    }
   ],
   "source": [
    "df.isnull().sum()"
   ]
  },
  {
   "cell_type": "code",
   "execution_count": 8,
   "id": "253c361f-6fa8-408f-8d1c-0f50cd509fc5",
   "metadata": {},
   "outputs": [
    {
     "data": {
      "text/plain": [
       "brand_name\n",
       "xiaomi       134\n",
       "samsung      132\n",
       "vivo         111\n",
       "realme        97\n",
       "oppo          88\n",
       "motorola      52\n",
       "apple         46\n",
       "oneplus       42\n",
       "poco          41\n",
       "tecno         33\n",
       "iqoo          32\n",
       "infinix       29\n",
       "huawei        16\n",
       "google        14\n",
       "nokia         13\n",
       "honor         13\n",
       "itel          10\n",
       "sony           9\n",
       "asus           7\n",
       "nubia          6\n",
       "nothing        5\n",
       "lava           4\n",
       "jio            4\n",
       "gionee         3\n",
       "micromax       3\n",
       "oukitel        3\n",
       "lg             3\n",
       "redmi          3\n",
       "letv           3\n",
       "ikall          3\n",
       "royole         2\n",
       "doogee         2\n",
       "zte            2\n",
       "lenovo         2\n",
       "lyf            2\n",
       "sharp          1\n",
       "tcl            1\n",
       "cat            1\n",
       "leitz          1\n",
       "duoqin         1\n",
       "leeco          1\n",
       "blu            1\n",
       "vertu          1\n",
       "tesla          1\n",
       "cola           1\n",
       "blackview      1\n",
       "Name: count, dtype: int64"
      ]
     },
     "execution_count": 8,
     "metadata": {},
     "output_type": "execute_result"
    }
   ],
   "source": [
    "# brand name\n",
    "df['brand_name'].value_counts()"
   ]
  },
  {
   "cell_type": "code",
   "execution_count": 9,
   "id": "ef828381-28af-4e85-b653-2049834f1262",
   "metadata": {},
   "outputs": [
    {
     "data": {
      "text/plain": [
       "<Axes: ylabel='brand_name'>"
      ]
     },
     "execution_count": 9,
     "metadata": {},
     "output_type": "execute_result"
    },
    {
     "data": {
      "image/png": "[encoded data removed]",
      "text/plain": [
       "<Figure size 640x480 with 1 Axes>"
      ]
     },
     "metadata": {},
     "output_type": "display_data"
    }
   ],
   "source": [
    "# brand name\n",
    "df['brand_name'].value_counts().head(10).sort_values(ascending=True).plot(kind='barh')"
   ]
  },
  {
   "cell_type": "code",
   "execution_count": 10,
   "id": "38bc10a0-0f24-4dfe-b4fc-e4b87d6fc921",
   "metadata": {},
   "outputs": [
    {
     "data": {
      "text/plain": [
       "count       980.000000\n",
       "mean      32520.504082\n",
       "std       39531.812669\n",
       "min        3499.000000\n",
       "25%       12999.000000\n",
       "50%       19994.500000\n",
       "75%       35491.500000\n",
       "max      650000.000000\n",
       "Name: price, dtype: float64"
      ]
     },
     "execution_count": 10,
     "metadata": {},
     "output_type": "execute_result"
    }
   ],
   "source": [
    "# price col\n",
    "df['price'].describe()"
   ]
  },
  {
   "cell_type": "code",
   "execution_count": 11,
   "id": "686cb2b5-5329-4e2f-962b-118d565b397d",
   "metadata": {},
   "outputs": [
    {
     "name": "stderr",
     "output_type": "stream",
     "text": [
      "C:\\ProgramData\\anaconda3\\Lib\\site-packages\\seaborn\\_oldcore.py:1119: FutureWarning: use_inf_as_na option is deprecated and will be removed in a future version. Convert inf values to NaN before operating instead.\n",
      "  with pd.option_context('mode.use_inf_as_na', True):\n"
     ]
    },
    {
     "data": {
      "text/plain": [
       "<Axes: xlabel='price', ylabel='Count'>"
      ]
     },
     "execution_count": 11,
     "metadata": {},
     "output_type": "execute_result"
    },
    {
     "data": {
      "image/png": "[encoded data removed]",
      "text/plain": [
       "<Figure size 640x480 with 1 Axes>"
      ]
     },
     "metadata": {},
     "output_type": "display_data"
    }
   ],
   "source": [
    "sns.histplot(df['price'], kde=True)"
   ]
  },
  {
   "cell_type": "code",
   "execution_count": 12,
   "id": "2bf3d247-6d9e-45b7-9315-4ffe6ba20469",
   "metadata": {},
   "outputs": [
    {
     "data": {
      "text/plain": [
       "6.591790999665567"
      ]
     },
     "execution_count": 12,
     "metadata": {},
     "output_type": "execute_result"
    }
   ],
   "source": [
    "df['price'].skew()"
   ]
  },
  {
   "cell_type": "code",
   "execution_count": 13,
   "id": "16228bec-a480-464a-8a93-2037f9feb531",
   "metadata": {},
   "outputs": [
    {
     "data": {
      "text/plain": [
       "<Axes: >"
      ]
     },
     "execution_count": 13,
     "metadata": {},
     "output_type": "execute_result"
    },
    {
     "data": {
      "image/png": "[encoded data removed]",
      "text/plain": [
       "<Figure size 640x480 with 1 Axes>"
      ]
     },
     "metadata": {},
     "output_type": "display_data"
    }
   ],
   "source": [
    "sns.boxplot(df[df['price']<200000]['price'])"
   ]
  },
  {
   "cell_type": "code",
   "execution_count": 14,
   "id": "07cb0b7f-7695-451d-807d-3139ed024e47",
   "metadata": {},
   "outputs": [
    {
     "data": {
      "text/html": [
       "<div>\n",
       "<style scoped>\n",
       "    .dataframe tbody tr th:only-of-type {\n",
       "        vertical-align: middle;\n",
       "    }\n",
       "\n",
       "    .dataframe tbody tr th {\n",
       "        vertical-align: top;\n",
       "    }\n",
       "\n",
       "    .dataframe thead th {\n",
       "        text-align: right;\n",
       "    }\n",
       "</style>\n",
       "<table border=\"1\" class=\"dataframe\">\n",
       "  <thead>\n",
       "    <tr style=\"text-align: right;\">\n",
       "      <th></th>\n",
       "      <th>brand_name</th>\n",
       "      <th>model</th>\n",
       "      <th>price</th>\n",
       "      <th>rating</th>\n",
       "      <th>has_5G</th>\n",
       "      <th>has_nfc</th>\n",
       "      <th>has_ir_blaster</th>\n",
       "      <th>processor_name</th>\n",
       "      <th>processor_brand</th>\n",
       "      <th>core</th>\n",
       "      <th>processor_speed</th>\n",
       "      <th>ram_capacity</th>\n",
       "      <th>internal_memory</th>\n",
       "      <th>battery_capacity</th>\n",
       "      <th>fast_charging</th>\n",
       "      <th>screen_size</th>\n",
       "      <th>resolution</th>\n",
       "      <th>refresh_rate</th>\n",
       "      <th>num_rear_cameras</th>\n",
       "      <th>num_front_cameras</th>\n",
       "      <th>primary_camera_rear</th>\n",
       "      <th>primary_camera_front</th>\n",
       "      <th>os</th>\n",
       "      <th>extended_memory</th>\n",
       "    </tr>\n",
       "  </thead>\n",
       "  <tbody>\n",
       "    <tr>\n",
       "      <th>427</th>\n",
       "      <td>vertu</td>\n",
       "      <td>Vertu Signature Touch</td>\n",
       "      <td>650000</td>\n",
       "      <td>62.0</td>\n",
       "      <td>False</td>\n",
       "      <td>True</td>\n",
       "      <td>False</td>\n",
       "      <td>Snapdragon 801</td>\n",
       "      <td>Snapdragon</td>\n",
       "      <td>Octa Core</td>\n",
       "      <td>1.50</td>\n",
       "      <td>2.0</td>\n",
       "      <td>64.0</td>\n",
       "      <td>2275.0</td>\n",
       "      <td>-1</td>\n",
       "      <td>4.70</td>\n",
       "      <td>1080 x 1920</td>\n",
       "      <td>60</td>\n",
       "      <td>1</td>\n",
       "      <td>1</td>\n",
       "      <td>13.0</td>\n",
       "      <td>2.1</td>\n",
       "      <td>android</td>\n",
       "      <td>0</td>\n",
       "    </tr>\n",
       "    <tr>\n",
       "      <th>478</th>\n",
       "      <td>huawei</td>\n",
       "      <td>Huawei Mate 50 RS Porsche Design</td>\n",
       "      <td>239999</td>\n",
       "      <td>81.0</td>\n",
       "      <td>False</td>\n",
       "      <td>True</td>\n",
       "      <td>True</td>\n",
       "      <td>Snapdragon 8+ Gen1</td>\n",
       "      <td>Snapdragon</td>\n",
       "      <td>Octa Core</td>\n",
       "      <td>3.20</td>\n",
       "      <td>12.0</td>\n",
       "      <td>512.0</td>\n",
       "      <td>4700.0</td>\n",
       "      <td>66</td>\n",
       "      <td>6.74</td>\n",
       "      <td>1212 x 2616</td>\n",
       "      <td>120</td>\n",
       "      <td>3</td>\n",
       "      <td>1</td>\n",
       "      <td>50.0</td>\n",
       "      <td>13</td>\n",
       "      <td>other</td>\n",
       "      <td>256 GB</td>\n",
       "    </tr>\n",
       "    <tr>\n",
       "      <th>887</th>\n",
       "      <td>xiaomi</td>\n",
       "      <td>Xiaomi Redmi K20 Pro Signature Edition</td>\n",
       "      <td>480000</td>\n",
       "      <td>88.0</td>\n",
       "      <td>False</td>\n",
       "      <td>True</td>\n",
       "      <td>False</td>\n",
       "      <td>Snapdragon  855</td>\n",
       "      <td>Snapdragon</td>\n",
       "      <td>Octa Core</td>\n",
       "      <td>2.80</td>\n",
       "      <td>8.0</td>\n",
       "      <td>256.0</td>\n",
       "      <td>4000.0</td>\n",
       "      <td>27</td>\n",
       "      <td>6.39</td>\n",
       "      <td>1080 x 2340</td>\n",
       "      <td>60</td>\n",
       "      <td>3</td>\n",
       "      <td>1</td>\n",
       "      <td>48.0</td>\n",
       "      <td>20</td>\n",
       "      <td>android</td>\n",
       "      <td>0</td>\n",
       "    </tr>\n",
       "    <tr>\n",
       "      <th>951</th>\n",
       "      <td>huawei</td>\n",
       "      <td>Huawei Mate 30 RS Porsche Design</td>\n",
       "      <td>214990</td>\n",
       "      <td>NaN</td>\n",
       "      <td>True</td>\n",
       "      <td>True</td>\n",
       "      <td>True</td>\n",
       "      <td>Kirin  990</td>\n",
       "      <td>Kirin</td>\n",
       "      <td>Octa Core</td>\n",
       "      <td>2.86</td>\n",
       "      <td>12.0</td>\n",
       "      <td>512.0</td>\n",
       "      <td>4500.0</td>\n",
       "      <td>0</td>\n",
       "      <td>6.53</td>\n",
       "      <td>1176 x 2400</td>\n",
       "      <td>60</td>\n",
       "      <td>4</td>\n",
       "      <td>2</td>\n",
       "      <td>40.0</td>\n",
       "      <td>32</td>\n",
       "      <td>android</td>\n",
       "      <td>256 GB</td>\n",
       "    </tr>\n",
       "  </tbody>\n",
       "</table>\n",
       "</div>"
      ],
      "text/plain": [
       "    brand_name                                   model   price  rating  \\\n",
       "427      vertu                   Vertu Signature Touch  650000    62.0   \n",
       "478     huawei        Huawei Mate 50 RS Porsche Design  239999    81.0   \n",
       "887     xiaomi  Xiaomi Redmi K20 Pro Signature Edition  480000    88.0   \n",
       "951     huawei        Huawei Mate 30 RS Porsche Design  214990     NaN   \n",
       "\n",
       "     has_5G  has_nfc  has_ir_blaster      processor_name processor_brand  \\\n",
       "427   False     True           False      Snapdragon 801      Snapdragon   \n",
       "478   False     True            True  Snapdragon 8+ Gen1      Snapdragon   \n",
       "887   False     True           False     Snapdragon  855      Snapdragon   \n",
       "951    True     True            True          Kirin  990           Kirin   \n",
       "\n",
       "          core  processor_speed  ram_capacity  internal_memory  \\\n",
       "427  Octa Core             1.50           2.0             64.0   \n",
       "478  Octa Core             3.20          12.0            512.0   \n",
       "887  Octa Core             2.80           8.0            256.0   \n",
       "951  Octa Core             2.86          12.0            512.0   \n",
       "\n",
       "     battery_capacity  fast_charging  screen_size    resolution  refresh_rate  \\\n",
       "427            2275.0             -1         4.70  1080 x 1920             60   \n",
       "478            4700.0             66         6.74  1212 x 2616            120   \n",
       "887            4000.0             27         6.39  1080 x 2340             60   \n",
       "951            4500.0              0         6.53  1176 x 2400             60   \n",
       "\n",
       "     num_rear_cameras num_front_cameras  primary_camera_rear  \\\n",
       "427                 1                 1                 13.0   \n",
       "478                 3                 1                 50.0   \n",
       "887                 3                 1                 48.0   \n",
       "951                 4                 2                 40.0   \n",
       "\n",
       "    primary_camera_front       os extended_memory  \n",
       "427                  2.1  android               0  \n",
       "478                   13    other          256 GB  \n",
       "887                   20  android               0  \n",
       "951                   32  android          256 GB  "
      ]
     },
     "execution_count": 14,
     "metadata": {},
     "output_type": "execute_result"
    }
   ],
   "source": [
    "df[df['price']>200000]"
   ]
  },
  {
   "cell_type": "code",
   "execution_count": 15,
   "id": "b496e1a7-e077-4132-9d7d-6500863e57ea",
   "metadata": {},
   "outputs": [
    {
     "data": {
      "text/plain": [
       "0"
      ]
     },
     "execution_count": 15,
     "metadata": {},
     "output_type": "execute_result"
    }
   ],
   "source": [
    "df['price'].isnull().sum()"
   ]
  },
  {
   "cell_type": "code",
   "execution_count": 16,
   "id": "92704a80-b04d-4672-8b63-938b35555bd8",
   "metadata": {},
   "outputs": [],
   "source": [
    "# rating column"
   ]
  },
  {
   "cell_type": "code",
   "execution_count": 17,
   "id": "acb50081-2b20-4816-90b6-ffb495fa32b2",
   "metadata": {},
   "outputs": [
    {
     "data": {
      "text/plain": [
       "count    879.000000\n",
       "mean      78.258248\n",
       "std        7.402854\n",
       "min       60.000000\n",
       "25%       74.000000\n",
       "50%       80.000000\n",
       "75%       84.000000\n",
       "max       89.000000\n",
       "Name: rating, dtype: float64"
      ]
     },
     "execution_count": 17,
     "metadata": {},
     "output_type": "execute_result"
    }
   ],
   "source": [
    "df['rating'].describe()"
   ]
  },
  {
   "cell_type": "code",
   "execution_count": 18,
   "id": "7099a00a-befa-4ca0-8c61-c04100ac3fba",
   "metadata": {},
   "outputs": [
    {
     "name": "stderr",
     "output_type": "stream",
     "text": [
      "C:\\ProgramData\\anaconda3\\Lib\\site-packages\\seaborn\\_oldcore.py:1119: FutureWarning: use_inf_as_na option is deprecated and will be removed in a future version. Convert inf values to NaN before operating instead.\n",
      "  with pd.option_context('mode.use_inf_as_na', True):\n"
     ]
    },
    {
     "data": {
      "image/png": "[encoded data removed]",
      "text/plain": [
       "<Figure size 640x480 with 1 Axes>"
      ]
     },
     "metadata": {},
     "output_type": "display_data"
    }
   ],
   "source": [
    "sns.histplot(df['rating'],kde=True)\n",
    "plt.show()"
   ]
  },
  {
   "cell_type": "code",
   "execution_count": 19,
   "id": "b3bc0ff0-924d-40cf-b4f6-72080a9eeb4c",
   "metadata": {},
   "outputs": [
    {
     "data": {
      "text/plain": [
       "-0.6989993034105535"
      ]
     },
     "execution_count": 19,
     "metadata": {},
     "output_type": "execute_result"
    }
   ],
   "source": [
    "df['rating'].skew()"
   ]
  },
  {
   "cell_type": "code",
   "execution_count": 20,
   "id": "b5e28d83-6491-4304-9dd9-33946de29676",
   "metadata": {},
   "outputs": [
    {
     "data": {
      "text/plain": [
       "<Axes: >"
      ]
     },
     "execution_count": 20,
     "metadata": {},
     "output_type": "execute_result"
    },
    {
     "data": {
      "image/png": "[encoded data removed]",
      "text/plain": [
       "<Figure size 640x480 with 1 Axes>"
      ]
     },
     "metadata": {},
     "output_type": "display_data"
    }
   ],
   "source": [
    "sns.boxplot(df['rating'])"
   ]
  },
  {
   "cell_type": "code",
   "execution_count": 21,
   "id": "71115d82-016e-4dde-ad8d-3e701ca821e1",
   "metadata": {},
   "outputs": [
    {
     "data": {
      "text/plain": [
       "101"
      ]
     },
     "execution_count": 21,
     "metadata": {},
     "output_type": "execute_result"
    }
   ],
   "source": [
    "df['rating'].isnull().sum()"
   ]
  },
  {
   "cell_type": "code",
   "execution_count": 22,
   "id": "a9692df2-9021-4fc7-8d74-a5ab4830b337",
   "metadata": {},
   "outputs": [
    {
     "data": {
      "text/plain": [
       "has_5G\n",
       "True     549\n",
       "False    431\n",
       "Name: count, dtype: int64"
      ]
     },
     "execution_count": 22,
     "metadata": {},
     "output_type": "execute_result"
    }
   ],
   "source": [
    "df['has_5G'].value_counts()"
   ]
  },
  {
   "cell_type": "code",
   "execution_count": 23,
   "id": "239cd385-9f27-437e-87dc-e1d33705d141",
   "metadata": {},
   "outputs": [
    {
     "data": {
      "text/plain": [
       "<Axes: xlabel='has_5G'>"
      ]
     },
     "execution_count": 23,
     "metadata": {},
     "output_type": "execute_result"
    },
    {
     "data": {
      "image/png": "[encoded data removed]",
      "text/plain": [
       "<Figure size 640x480 with 1 Axes>"
      ]
     },
     "metadata": {},
     "output_type": "display_data"
    }
   ],
   "source": [
    "df['has_5G'].value_counts().plot(kind='bar')"
   ]
  },
  {
   "cell_type": "code",
   "execution_count": 24,
   "id": "aefacc2c-106f-43b0-a8fe-74b17d71b60a",
   "metadata": {},
   "outputs": [
    {
     "data": {
      "text/plain": [
       "has_nfc\n",
       "False    587\n",
       "True     393\n",
       "Name: count, dtype: int64"
      ]
     },
     "execution_count": 24,
     "metadata": {},
     "output_type": "execute_result"
    }
   ],
   "source": [
    "df['has_nfc'].value_counts()"
   ]
  },
  {
   "cell_type": "code",
   "execution_count": 25,
   "id": "9ea6dd20-c39f-4b1f-9bda-3f5edb962dfe",
   "metadata": {},
   "outputs": [
    {
     "data": {
      "text/plain": [
       "<Axes: xlabel='has_nfc'>"
      ]
     },
     "execution_count": 25,
     "metadata": {},
     "output_type": "execute_result"
    },
    {
     "data": {
      "image/png": "[encoded data removed]",
      "text/plain": [
       "<Figure size 640x480 with 1 Axes>"
      ]
     },
     "metadata": {},
     "output_type": "display_data"
    }
   ],
   "source": [
    "df['has_nfc'].value_counts().plot(kind='bar')"
   ]
  },
  {
   "cell_type": "code",
   "execution_count": 26,
   "id": "0bdc2aa1-1aab-4227-8e62-ff6c808d8441",
   "metadata": {},
   "outputs": [
    {
     "data": {
      "text/plain": [
       "has_ir_blaster\n",
       "False    821\n",
       "True     159\n",
       "Name: count, dtype: int64"
      ]
     },
     "execution_count": 26,
     "metadata": {},
     "output_type": "execute_result"
    }
   ],
   "source": [
    "df['has_ir_blaster'].value_counts()"
   ]
  },
  {
   "cell_type": "code",
   "execution_count": 27,
   "id": "1668a546-14f5-44ea-afd6-f0ab25511a34",
   "metadata": {},
   "outputs": [
    {
     "data": {
      "text/plain": [
       "<Axes: xlabel='has_ir_blaster'>"
      ]
     },
     "execution_count": 27,
     "metadata": {},
     "output_type": "execute_result"
    },
    {
     "data": {
      "image/png": "[encoded data removed]",
      "text/plain": [
       "<Figure size 640x480 with 1 Axes>"
      ]
     },
     "metadata": {},
     "output_type": "display_data"
    }
   ],
   "source": [
    "df['has_ir_blaster'].value_counts().plot(kind='bar')"
   ]
  },
  {
   "cell_type": "code",
   "execution_count": 28,
   "id": "28300506-6a0b-49e8-a8db-c71450fcb5fc",
   "metadata": {},
   "outputs": [
    {
     "data": {
      "text/plain": [
       "processor_brand\n",
       "Snapdragon    407\n",
       "Helio         201\n",
       "Dimensity     177\n",
       "Exynos         49\n",
       "Bionic         39\n",
       "Unisoc         26\n",
       "Tiger          24\n",
       "Google          9\n",
       "Kirin           7\n",
       "A13             5\n",
       "Qualcomm        5\n",
       "Spreadtrum      4\n",
       "SC9863A         2\n",
       "Mediatek        1\n",
       "Apple           1\n",
       "Fusion          1\n",
       "Sanpdragon      1\n",
       "Samsung         1\n",
       "Name: count, dtype: int64"
      ]
     },
     "execution_count": 28,
     "metadata": {},
     "output_type": "execute_result"
    }
   ],
   "source": [
    "df['processor_brand'].value_counts()"
   ]
  },
  {
   "cell_type": "code",
   "execution_count": 29,
   "id": "b404576a-6947-444d-af6a-6f4027e076b6",
   "metadata": {},
   "outputs": [],
   "source": [
    "df['processor_brand'] = df['processor_brand'].str.replace('Sanpdragon','Snapdragon')"
   ]
  },
  {
   "cell_type": "code",
   "execution_count": 30,
   "id": "0f323d6c-dac8-4cc5-885f-7132a84a846b",
   "metadata": {},
   "outputs": [],
   "source": [
    "df['processor_brand'] = df['processor_brand'].str.replace('Apple','Bionic')\n",
    "df['processor_brand'] = df['processor_brand'].str.replace('Samsung','Exynos')"
   ]
  },
  {
   "cell_type": "code",
   "execution_count": 31,
   "id": "311c5cab-5a2e-4263-9e19-2aa4ce11d5fe",
   "metadata": {},
   "outputs": [],
   "source": [
    "df['processor_brand'] = df['processor_brand'].str.replace('A13','Bionic')"
   ]
  },
  {
   "cell_type": "code",
   "execution_count": 32,
   "id": "1f7ee46d-46bf-4508-8fb4-f20f0d4ba922",
   "metadata": {},
   "outputs": [],
   "source": [
    "df['processor_brand'] = df['processor_brand'].str.replace('Qualcomm','Snapdragon')"
   ]
  },
  {
   "cell_type": "code",
   "execution_count": 33,
   "id": "96e313af-d320-4347-a130-b610e3187053",
   "metadata": {},
   "outputs": [
    {
     "data": {
      "text/plain": [
       "20"
      ]
     },
     "execution_count": 33,
     "metadata": {},
     "output_type": "execute_result"
    }
   ],
   "source": [
    "df['processor_brand'].isna().sum()"
   ]
  },
  {
   "cell_type": "code",
   "execution_count": 34,
   "id": "5388a830-a456-4191-8ed0-a7d1c0412805",
   "metadata": {},
   "outputs": [
    {
     "data": {
      "text/plain": [
       "core\n",
       "Octa Core    899\n",
       "Hexa Core     39\n",
       "Quad Core     36\n",
       "Name: count, dtype: int64"
      ]
     },
     "execution_count": 34,
     "metadata": {},
     "output_type": "execute_result"
    }
   ],
   "source": [
    "df['core'].value_counts()"
   ]
  },
  {
   "cell_type": "code",
   "execution_count": 35,
   "id": "f0935371-6687-406a-895d-349285bd49e1",
   "metadata": {},
   "outputs": [
    {
     "data": {
      "text/plain": [
       "count    938.000000\n",
       "mean       2.427217\n",
       "std        0.464090\n",
       "min        1.200000\n",
       "25%        2.050000\n",
       "50%        2.300000\n",
       "75%        2.840000\n",
       "max        3.220000\n",
       "Name: processor_speed, dtype: float64"
      ]
     },
     "execution_count": 35,
     "metadata": {},
     "output_type": "execute_result"
    }
   ],
   "source": [
    "df['processor_speed'].describe()"
   ]
  },
  {
   "cell_type": "code",
   "execution_count": 36,
   "id": "41af3240-5f04-4d03-a4cb-f80049b06ad2",
   "metadata": {},
   "outputs": [
    {
     "name": "stderr",
     "output_type": "stream",
     "text": [
      "C:\\ProgramData\\anaconda3\\Lib\\site-packages\\seaborn\\_oldcore.py:1119: FutureWarning: use_inf_as_na option is deprecated and will be removed in a future version. Convert inf values to NaN before operating instead.\n",
      "  with pd.option_context('mode.use_inf_as_na', True):\n"
     ]
    },
    {
     "data": {
      "text/plain": [
       "<seaborn.axisgrid.FacetGrid at 0x1c8062f7290>"
      ]
     },
     "execution_count": 36,
     "metadata": {},
     "output_type": "execute_result"
    },
    {
     "data": {
      "image/png": "[encoded data removed]",
      "text/plain": [
       "<Figure size 500x500 with 1 Axes>"
      ]
     },
     "metadata": {},
     "output_type": "display_data"
    }
   ],
   "source": [
    "sns.displot(kind='kde',data=df,x='processor_speed')"
   ]
  },
  {
   "cell_type": "code",
   "execution_count": 37,
   "id": "ee447564-77df-4c82-aa47-443743a03fd3",
   "metadata": {},
   "outputs": [
    {
     "data": {
      "text/plain": [
       "0.18833557463624606"
      ]
     },
     "execution_count": 37,
     "metadata": {},
     "output_type": "execute_result"
    }
   ],
   "source": [
    "df['processor_speed'].skew()"
   ]
  },
  {
   "cell_type": "code",
   "execution_count": 38,
   "id": "90e48af1-52f6-4cf4-bc18-d1ef86be770b",
   "metadata": {},
   "outputs": [
    {
     "data": {
      "text/plain": [
       "<Axes: >"
      ]
     },
     "execution_count": 38,
     "metadata": {},
     "output_type": "execute_result"
    },
    {
     "data": {
      "image/png": "[encoded data removed]",
      "text/plain": [
       "<Figure size 640x480 with 1 Axes>"
      ]
     },
     "metadata": {},
     "output_type": "display_data"
    }
   ],
   "source": [
    "sns.boxplot(df['processor_speed'])"
   ]
  },
  {
   "cell_type": "code",
   "execution_count": 39,
   "id": "5529a950-43f7-4f91-b655-780de060e1d3",
   "metadata": {},
   "outputs": [
    {
     "data": {
      "text/plain": [
       "count      969.000000\n",
       "mean      4817.748194\n",
       "std       1009.540054\n",
       "min       1821.000000\n",
       "25%       4500.000000\n",
       "50%       5000.000000\n",
       "75%       5000.000000\n",
       "max      22000.000000\n",
       "Name: battery_capacity, dtype: float64"
      ]
     },
     "execution_count": 39,
     "metadata": {},
     "output_type": "execute_result"
    }
   ],
   "source": [
    "df['battery_capacity'].describe()"
   ]
  },
  {
   "cell_type": "code",
   "execution_count": 40,
   "id": "cfba2c70-adf2-43bf-a35b-3505fa19287e",
   "metadata": {},
   "outputs": [
    {
     "name": "stderr",
     "output_type": "stream",
     "text": [
      "C:\\ProgramData\\anaconda3\\Lib\\site-packages\\seaborn\\_oldcore.py:1119: FutureWarning: use_inf_as_na option is deprecated and will be removed in a future version. Convert inf values to NaN before operating instead.\n",
      "  with pd.option_context('mode.use_inf_as_na', True):\n"
     ]
    },
    {
     "data": {
      "text/plain": [
       "<seaborn.axisgrid.FacetGrid at 0x1c80733c290>"
      ]
     },
     "execution_count": 40,
     "metadata": {},
     "output_type": "execute_result"
    },
    {
     "data": {
      "image/png": "[encoded data removed]",
      "text/plain": [
       "<Figure size 500x500 with 1 Axes>"
      ]
     },
     "metadata": {},
     "output_type": "display_data"
    }
   ],
   "source": [
    "sns.displot(kind='kde',data=df,x='battery_capacity')"
   ]
  },
  {
   "cell_type": "code",
   "execution_count": 41,
   "id": "5358c40e-3e87-49f9-8def-1218822e3d69",
   "metadata": {},
   "outputs": [
    {
     "data": {
      "text/html": [
       "<div>\n",
       "<style scoped>\n",
       "    .dataframe tbody tr th:only-of-type {\n",
       "        vertical-align: middle;\n",
       "    }\n",
       "\n",
       "    .dataframe tbody tr th {\n",
       "        vertical-align: top;\n",
       "    }\n",
       "\n",
       "    .dataframe thead th {\n",
       "        text-align: right;\n",
       "    }\n",
       "</style>\n",
       "<table border=\"1\" class=\"dataframe\">\n",
       "  <thead>\n",
       "    <tr style=\"text-align: right;\">\n",
       "      <th></th>\n",
       "      <th>brand_name</th>\n",
       "      <th>model</th>\n",
       "      <th>price</th>\n",
       "      <th>rating</th>\n",
       "      <th>has_5G</th>\n",
       "      <th>has_nfc</th>\n",
       "      <th>has_ir_blaster</th>\n",
       "      <th>processor_name</th>\n",
       "      <th>processor_brand</th>\n",
       "      <th>core</th>\n",
       "      <th>processor_speed</th>\n",
       "      <th>ram_capacity</th>\n",
       "      <th>internal_memory</th>\n",
       "      <th>battery_capacity</th>\n",
       "      <th>fast_charging</th>\n",
       "      <th>screen_size</th>\n",
       "      <th>resolution</th>\n",
       "      <th>refresh_rate</th>\n",
       "      <th>num_rear_cameras</th>\n",
       "      <th>num_front_cameras</th>\n",
       "      <th>primary_camera_rear</th>\n",
       "      <th>primary_camera_front</th>\n",
       "      <th>os</th>\n",
       "      <th>extended_memory</th>\n",
       "    </tr>\n",
       "  </thead>\n",
       "  <tbody>\n",
       "    <tr>\n",
       "      <th>391</th>\n",
       "      <td>oukitel</td>\n",
       "      <td>Oukitel WP19</td>\n",
       "      <td>29990</td>\n",
       "      <td>84.0</td>\n",
       "      <td>False</td>\n",
       "      <td>True</td>\n",
       "      <td>False</td>\n",
       "      <td>Helio G95</td>\n",
       "      <td>Helio</td>\n",
       "      <td>Octa Core</td>\n",
       "      <td>2.0</td>\n",
       "      <td>8.0</td>\n",
       "      <td>256.0</td>\n",
       "      <td>21000.0</td>\n",
       "      <td>33</td>\n",
       "      <td>6.78</td>\n",
       "      <td>1080 x 2400</td>\n",
       "      <td>60</td>\n",
       "      <td>3</td>\n",
       "      <td>1</td>\n",
       "      <td>64.0</td>\n",
       "      <td>16</td>\n",
       "      <td>android</td>\n",
       "      <td>Not Specified</td>\n",
       "    </tr>\n",
       "    <tr>\n",
       "      <th>599</th>\n",
       "      <td>oukitel</td>\n",
       "      <td>Oukitel WP21</td>\n",
       "      <td>22990</td>\n",
       "      <td>82.0</td>\n",
       "      <td>False</td>\n",
       "      <td>False</td>\n",
       "      <td>False</td>\n",
       "      <td>Helio G99</td>\n",
       "      <td>Helio</td>\n",
       "      <td>Octa Core</td>\n",
       "      <td>2.2</td>\n",
       "      <td>12.0</td>\n",
       "      <td>256.0</td>\n",
       "      <td>9800.0</td>\n",
       "      <td>66</td>\n",
       "      <td>6.78</td>\n",
       "      <td>1080 x 2400</td>\n",
       "      <td>120</td>\n",
       "      <td>3</td>\n",
       "      <td>1</td>\n",
       "      <td>64.0</td>\n",
       "      <td>Main</td>\n",
       "      <td>NaN</td>\n",
       "      <td>0</td>\n",
       "    </tr>\n",
       "    <tr>\n",
       "      <th>843</th>\n",
       "      <td>doogee</td>\n",
       "      <td>Doogee V Max</td>\n",
       "      <td>45999</td>\n",
       "      <td>88.0</td>\n",
       "      <td>True</td>\n",
       "      <td>False</td>\n",
       "      <td>False</td>\n",
       "      <td>Dimensity 1080</td>\n",
       "      <td>Dimensity</td>\n",
       "      <td>Octa Core</td>\n",
       "      <td>2.6</td>\n",
       "      <td>12.0</td>\n",
       "      <td>256.0</td>\n",
       "      <td>22000.0</td>\n",
       "      <td>33</td>\n",
       "      <td>6.58</td>\n",
       "      <td>1080 x 2408</td>\n",
       "      <td>120</td>\n",
       "      <td>3</td>\n",
       "      <td>1</td>\n",
       "      <td>108.0</td>\n",
       "      <td>32</td>\n",
       "      <td>android</td>\n",
       "      <td>2 TB</td>\n",
       "    </tr>\n",
       "    <tr>\n",
       "      <th>966</th>\n",
       "      <td>oukitel</td>\n",
       "      <td>Oukitel WP9</td>\n",
       "      <td>25899</td>\n",
       "      <td>72.0</td>\n",
       "      <td>False</td>\n",
       "      <td>True</td>\n",
       "      <td>False</td>\n",
       "      <td>Helio P60</td>\n",
       "      <td>Helio</td>\n",
       "      <td>Octa Core</td>\n",
       "      <td>2.0</td>\n",
       "      <td>6.0</td>\n",
       "      <td>128.0</td>\n",
       "      <td>8000.0</td>\n",
       "      <td>-1</td>\n",
       "      <td>5.86</td>\n",
       "      <td>720 x 1520</td>\n",
       "      <td>60</td>\n",
       "      <td>3</td>\n",
       "      <td>1</td>\n",
       "      <td>16.0</td>\n",
       "      <td>8</td>\n",
       "      <td>android</td>\n",
       "      <td>Not Specified</td>\n",
       "    </tr>\n",
       "  </tbody>\n",
       "</table>\n",
       "</div>"
      ],
      "text/plain": [
       "    brand_name         model  price  rating  has_5G  has_nfc  has_ir_blaster  \\\n",
       "391    oukitel  Oukitel WP19  29990    84.0   False     True           False   \n",
       "599    oukitel  Oukitel WP21  22990    82.0   False    False           False   \n",
       "843     doogee  Doogee V Max  45999    88.0    True    False           False   \n",
       "966    oukitel   Oukitel WP9  25899    72.0   False     True           False   \n",
       "\n",
       "     processor_name processor_brand       core  processor_speed  ram_capacity  \\\n",
       "391       Helio G95           Helio  Octa Core              2.0           8.0   \n",
       "599       Helio G99           Helio  Octa Core              2.2          12.0   \n",
       "843  Dimensity 1080       Dimensity  Octa Core              2.6          12.0   \n",
       "966       Helio P60           Helio  Octa Core              2.0           6.0   \n",
       "\n",
       "     internal_memory  battery_capacity  fast_charging  screen_size  \\\n",
       "391            256.0           21000.0             33         6.78   \n",
       "599            256.0            9800.0             66         6.78   \n",
       "843            256.0           22000.0             33         6.58   \n",
       "966            128.0            8000.0             -1         5.86   \n",
       "\n",
       "       resolution  refresh_rate  num_rear_cameras num_front_cameras  \\\n",
       "391  1080 x 2400             60                 3                 1   \n",
       "599  1080 x 2400            120                 3                 1   \n",
       "843  1080 x 2408            120                 3                 1   \n",
       "966   720 x 1520             60                 3                 1   \n",
       "\n",
       "     primary_camera_rear primary_camera_front       os extended_memory  \n",
       "391                 64.0                   16  android   Not Specified  \n",
       "599                 64.0                 Main      NaN               0  \n",
       "843                108.0                   32  android            2 TB  \n",
       "966                 16.0                    8  android   Not Specified  "
      ]
     },
     "execution_count": 41,
     "metadata": {},
     "output_type": "execute_result"
    }
   ],
   "source": [
    "df[df['battery_capacity'] > 7000]"
   ]
  },
  {
   "cell_type": "code",
   "execution_count": 42,
   "id": "dac7fafe-b6ac-4037-865f-83124b458852",
   "metadata": {},
   "outputs": [
    {
     "data": {
      "text/plain": [
       "count    980.000000\n",
       "mean      36.048980\n",
       "std       35.948034\n",
       "min       -1.000000\n",
       "25%       15.000000\n",
       "50%       30.000000\n",
       "75%       65.000000\n",
       "max      240.000000\n",
       "Name: fast_charging, dtype: float64"
      ]
     },
     "execution_count": 42,
     "metadata": {},
     "output_type": "execute_result"
    }
   ],
   "source": [
    "df['fast_charging'].describe()"
   ]
  },
  {
   "cell_type": "code",
   "execution_count": 43,
   "id": "a76a7240-b46c-49ae-95b6-c4ad5cad436e",
   "metadata": {},
   "outputs": [],
   "source": [
    "def fast(row):\n",
    "\n",
    "  if row['fast_charging'] == -1:\n",
    "    return 0\n",
    "  else:\n",
    "    return 1\n",
    "      "
   ]
  },
  {
   "cell_type": "code",
   "execution_count": 44,
   "id": "920470ef-4fb3-4683-b6d2-c009895f3777",
   "metadata": {},
   "outputs": [],
   "source": [
    "x = df.apply(fast,axis=1)\n",
    "df.insert(12,'fast_charging_available',x)"
   ]
  },
  {
   "cell_type": "code",
   "execution_count": 45,
   "id": "80f307bb-6f74-49af-bfa0-bf68ae900ace",
   "metadata": {},
   "outputs": [],
   "source": [
    "df['fast_charging'] = df['fast_charging'].apply(lambda x:np.nan if x == 0 or x == -1 else x)"
   ]
  },
  {
   "cell_type": "code",
   "execution_count": 46,
   "id": "be42cbf8-aac3-4986-ae15-5957d0d14b7b",
   "metadata": {},
   "outputs": [
    {
     "data": {
      "text/html": [
       "<div>\n",
       "<style scoped>\n",
       "    .dataframe tbody tr th:only-of-type {\n",
       "        vertical-align: middle;\n",
       "    }\n",
       "\n",
       "    .dataframe tbody tr th {\n",
       "        vertical-align: top;\n",
       "    }\n",
       "\n",
       "    .dataframe thead th {\n",
       "        text-align: right;\n",
       "    }\n",
       "</style>\n",
       "<table border=\"1\" class=\"dataframe\">\n",
       "  <thead>\n",
       "    <tr style=\"text-align: right;\">\n",
       "      <th></th>\n",
       "      <th>brand_name</th>\n",
       "      <th>model</th>\n",
       "      <th>price</th>\n",
       "      <th>rating</th>\n",
       "      <th>has_5G</th>\n",
       "      <th>has_nfc</th>\n",
       "      <th>has_ir_blaster</th>\n",
       "      <th>processor_name</th>\n",
       "      <th>processor_brand</th>\n",
       "      <th>core</th>\n",
       "      <th>processor_speed</th>\n",
       "      <th>ram_capacity</th>\n",
       "      <th>fast_charging_available</th>\n",
       "      <th>internal_memory</th>\n",
       "      <th>battery_capacity</th>\n",
       "      <th>fast_charging</th>\n",
       "      <th>screen_size</th>\n",
       "      <th>resolution</th>\n",
       "      <th>refresh_rate</th>\n",
       "      <th>num_rear_cameras</th>\n",
       "      <th>num_front_cameras</th>\n",
       "      <th>primary_camera_rear</th>\n",
       "      <th>primary_camera_front</th>\n",
       "      <th>os</th>\n",
       "      <th>extended_memory</th>\n",
       "    </tr>\n",
       "  </thead>\n",
       "  <tbody>\n",
       "    <tr>\n",
       "      <th>0</th>\n",
       "      <td>oneplus</td>\n",
       "      <td>OnePlus 11 5G</td>\n",
       "      <td>54999</td>\n",
       "      <td>89.0</td>\n",
       "      <td>True</td>\n",
       "      <td>True</td>\n",
       "      <td>False</td>\n",
       "      <td>Snapdragon 8 Gen2</td>\n",
       "      <td>Snapdragon</td>\n",
       "      <td>Octa Core</td>\n",
       "      <td>3.2</td>\n",
       "      <td>12.0</td>\n",
       "      <td>1</td>\n",
       "      <td>256.0</td>\n",
       "      <td>5000.0</td>\n",
       "      <td>100.0</td>\n",
       "      <td>6.70</td>\n",
       "      <td>1440 x 3216</td>\n",
       "      <td>120</td>\n",
       "      <td>3</td>\n",
       "      <td>1</td>\n",
       "      <td>50.0</td>\n",
       "      <td>16</td>\n",
       "      <td>android</td>\n",
       "      <td>0</td>\n",
       "    </tr>\n",
       "    <tr>\n",
       "      <th>1</th>\n",
       "      <td>oneplus</td>\n",
       "      <td>OnePlus Nord CE 2 Lite 5G</td>\n",
       "      <td>19989</td>\n",
       "      <td>81.0</td>\n",
       "      <td>True</td>\n",
       "      <td>False</td>\n",
       "      <td>False</td>\n",
       "      <td>Snapdragon 695</td>\n",
       "      <td>Snapdragon</td>\n",
       "      <td>Octa Core</td>\n",
       "      <td>2.2</td>\n",
       "      <td>6.0</td>\n",
       "      <td>1</td>\n",
       "      <td>128.0</td>\n",
       "      <td>5000.0</td>\n",
       "      <td>33.0</td>\n",
       "      <td>6.59</td>\n",
       "      <td>1080 x 2412</td>\n",
       "      <td>120</td>\n",
       "      <td>3</td>\n",
       "      <td>1</td>\n",
       "      <td>64.0</td>\n",
       "      <td>16</td>\n",
       "      <td>android</td>\n",
       "      <td>1 TB</td>\n",
       "    </tr>\n",
       "    <tr>\n",
       "      <th>2</th>\n",
       "      <td>samsung</td>\n",
       "      <td>Samsung Galaxy A14 5G</td>\n",
       "      <td>16499</td>\n",
       "      <td>75.0</td>\n",
       "      <td>True</td>\n",
       "      <td>False</td>\n",
       "      <td>False</td>\n",
       "      <td>Exynos 1330</td>\n",
       "      <td>Exynos</td>\n",
       "      <td>Octa Core</td>\n",
       "      <td>2.4</td>\n",
       "      <td>4.0</td>\n",
       "      <td>1</td>\n",
       "      <td>64.0</td>\n",
       "      <td>5000.0</td>\n",
       "      <td>15.0</td>\n",
       "      <td>6.60</td>\n",
       "      <td>1080 x 2408</td>\n",
       "      <td>90</td>\n",
       "      <td>3</td>\n",
       "      <td>1</td>\n",
       "      <td>50.0</td>\n",
       "      <td>13</td>\n",
       "      <td>android</td>\n",
       "      <td>1 TB</td>\n",
       "    </tr>\n",
       "    <tr>\n",
       "      <th>3</th>\n",
       "      <td>motorola</td>\n",
       "      <td>Motorola Moto G62 5G</td>\n",
       "      <td>14999</td>\n",
       "      <td>81.0</td>\n",
       "      <td>True</td>\n",
       "      <td>False</td>\n",
       "      <td>False</td>\n",
       "      <td>Snapdragon  695</td>\n",
       "      <td>Snapdragon</td>\n",
       "      <td>Octa Core</td>\n",
       "      <td>2.2</td>\n",
       "      <td>6.0</td>\n",
       "      <td>1</td>\n",
       "      <td>128.0</td>\n",
       "      <td>5000.0</td>\n",
       "      <td>NaN</td>\n",
       "      <td>6.55</td>\n",
       "      <td>1080 x 2400</td>\n",
       "      <td>120</td>\n",
       "      <td>3</td>\n",
       "      <td>1</td>\n",
       "      <td>50.0</td>\n",
       "      <td>16</td>\n",
       "      <td>android</td>\n",
       "      <td>1 TB</td>\n",
       "    </tr>\n",
       "    <tr>\n",
       "      <th>4</th>\n",
       "      <td>realme</td>\n",
       "      <td>Realme 10 Pro Plus</td>\n",
       "      <td>24999</td>\n",
       "      <td>82.0</td>\n",
       "      <td>True</td>\n",
       "      <td>False</td>\n",
       "      <td>False</td>\n",
       "      <td>Dimensity 1080</td>\n",
       "      <td>Dimensity</td>\n",
       "      <td>Octa Core</td>\n",
       "      <td>2.6</td>\n",
       "      <td>6.0</td>\n",
       "      <td>1</td>\n",
       "      <td>128.0</td>\n",
       "      <td>5000.0</td>\n",
       "      <td>67.0</td>\n",
       "      <td>6.70</td>\n",
       "      <td>1080 x 2412</td>\n",
       "      <td>120</td>\n",
       "      <td>3</td>\n",
       "      <td>1</td>\n",
       "      <td>108.0</td>\n",
       "      <td>16</td>\n",
       "      <td>android</td>\n",
       "      <td>0</td>\n",
       "    </tr>\n",
       "  </tbody>\n",
       "</table>\n",
       "</div>"
      ],
      "text/plain": [
       "  brand_name                      model  price  rating  has_5G  has_nfc  \\\n",
       "0    oneplus              OnePlus 11 5G  54999    89.0    True     True   \n",
       "1    oneplus  OnePlus Nord CE 2 Lite 5G  19989    81.0    True    False   \n",
       "2    samsung      Samsung Galaxy A14 5G  16499    75.0    True    False   \n",
       "3   motorola       Motorola Moto G62 5G  14999    81.0    True    False   \n",
       "4     realme         Realme 10 Pro Plus  24999    82.0    True    False   \n",
       "\n",
       "   has_ir_blaster     processor_name processor_brand       core  \\\n",
       "0           False  Snapdragon 8 Gen2      Snapdragon  Octa Core   \n",
       "1           False     Snapdragon 695      Snapdragon  Octa Core   \n",
       "2           False        Exynos 1330          Exynos  Octa Core   \n",
       "3           False    Snapdragon  695      Snapdragon  Octa Core   \n",
       "4           False     Dimensity 1080       Dimensity  Octa Core   \n",
       "\n",
       "   processor_speed  ram_capacity  fast_charging_available  internal_memory  \\\n",
       "0              3.2          12.0                        1            256.0   \n",
       "1              2.2           6.0                        1            128.0   \n",
       "2              2.4           4.0                        1             64.0   \n",
       "3              2.2           6.0                        1            128.0   \n",
       "4              2.6           6.0                        1            128.0   \n",
       "\n",
       "   battery_capacity  fast_charging  screen_size    resolution  refresh_rate  \\\n",
       "0            5000.0          100.0         6.70  1440 x 3216            120   \n",
       "1            5000.0           33.0         6.59  1080 x 2412            120   \n",
       "2            5000.0           15.0         6.60  1080 x 2408             90   \n",
       "3            5000.0            NaN         6.55  1080 x 2400            120   \n",
       "4            5000.0           67.0         6.70  1080 x 2412            120   \n",
       "\n",
       "   num_rear_cameras num_front_cameras  primary_camera_rear  \\\n",
       "0                 3                 1                 50.0   \n",
       "1                 3                 1                 64.0   \n",
       "2                 3                 1                 50.0   \n",
       "3                 3                 1                 50.0   \n",
       "4                 3                 1                108.0   \n",
       "\n",
       "  primary_camera_front       os extended_memory  \n",
       "0                   16  android               0  \n",
       "1                   16  android            1 TB  \n",
       "2                   13  android            1 TB  \n",
       "3                   16  android            1 TB  \n",
       "4                   16  android               0  "
      ]
     },
     "execution_count": 46,
     "metadata": {},
     "output_type": "execute_result"
    }
   ],
   "source": [
    "df.head()"
   ]
  },
  {
   "cell_type": "code",
   "execution_count": 47,
   "id": "d8a382f9-7daa-4d0e-adc8-8c4516ab75b2",
   "metadata": {},
   "outputs": [
    {
     "data": {
      "text/plain": [
       "ram_capacity\n",
       "8.0     339\n",
       "6.0     234\n",
       "4.0     217\n",
       "12.0     86\n",
       "3.0      54\n",
       "2.0      32\n",
       "16.0      9\n",
       "1.0       7\n",
       "18.0      2\n",
       "Name: count, dtype: int64"
      ]
     },
     "execution_count": 47,
     "metadata": {},
     "output_type": "execute_result"
    }
   ],
   "source": [
    "df['ram_capacity'].value_counts()"
   ]
  },
  {
   "cell_type": "code",
   "execution_count": 48,
   "id": "afcab8f9-804a-4bb8-8220-9497a4062554",
   "metadata": {},
   "outputs": [],
   "source": [
    "temp_df = df[df['internal_memory'].isnull()]"
   ]
  },
  {
   "cell_type": "code",
   "execution_count": 49,
   "id": "bf47185c-b32f-41cb-a74a-c23c6e51c221",
   "metadata": {},
   "outputs": [
    {
     "data": {
      "text/plain": [
       "internal_memory\n",
       "128.0     523\n",
       "64.0      193\n",
       "256.0     157\n",
       "32.0       67\n",
       "512.0      22\n",
       "16.0       12\n",
       "1024.0      5\n",
       "8.0         1\n",
       "Name: count, dtype: int64"
      ]
     },
     "execution_count": 49,
     "metadata": {},
     "output_type": "execute_result"
    }
   ],
   "source": [
    "df['internal_memory'].value_counts()"
   ]
  },
  {
   "cell_type": "code",
   "execution_count": 50,
   "id": "66f7619d-e454-44fc-a0ac-0962a2603fa5",
   "metadata": {},
   "outputs": [
    {
     "data": {
      "text/plain": [
       "count    980.000000\n",
       "mean       6.536765\n",
       "std        0.349162\n",
       "min        3.540000\n",
       "25%        6.500000\n",
       "50%        6.580000\n",
       "75%        6.670000\n",
       "max        8.030000\n",
       "Name: screen_size, dtype: float64"
      ]
     },
     "execution_count": 50,
     "metadata": {},
     "output_type": "execute_result"
    }
   ],
   "source": [
    "df['screen_size'].describe()"
   ]
  },
  {
   "cell_type": "code",
   "execution_count": 51,
   "id": "0232a6bf-9b01-440a-b820-326cded404a1",
   "metadata": {},
   "outputs": [
    {
     "name": "stderr",
     "output_type": "stream",
     "text": [
      "C:\\ProgramData\\anaconda3\\Lib\\site-packages\\seaborn\\_oldcore.py:1119: FutureWarning: use_inf_as_na option is deprecated and will be removed in a future version. Convert inf values to NaN before operating instead.\n",
      "  with pd.option_context('mode.use_inf_as_na', True):\n"
     ]
    },
    {
     "data": {
      "text/plain": [
       "<seaborn.axisgrid.FacetGrid at 0x1c8073a7290>"
      ]
     },
     "execution_count": 51,
     "metadata": {},
     "output_type": "execute_result"
    },
    {
     "data": {
      "image/png": "[encoded data removed]",
      "text/plain": [
       "<Figure size 500x500 with 1 Axes>"
      ]
     },
     "metadata": {},
     "output_type": "display_data"
    }
   ],
   "source": [
    "sns.displot(kind='kde', data=df,x='screen_size')"
   ]
  },
  {
   "cell_type": "code",
   "execution_count": 52,
   "id": "596b256f-ceba-43d8-94a2-49a7ce605356",
   "metadata": {},
   "outputs": [
    {
     "data": {
      "text/plain": [
       "-2.11619902968816"
      ]
     },
     "execution_count": 52,
     "metadata": {},
     "output_type": "execute_result"
    }
   ],
   "source": [
    "df['screen_size'].skew()"
   ]
  },
  {
   "cell_type": "code",
   "execution_count": 53,
   "id": "a6f5bf4a-5b20-4609-9cc2-4d4fae0cd30b",
   "metadata": {},
   "outputs": [
    {
     "data": {
      "text/plain": [
       "<Axes: >"
      ]
     },
     "execution_count": 53,
     "metadata": {},
     "output_type": "execute_result"
    },
    {
     "data": {
      "image/png": "[encoded data removed]",
      "text/plain": [
       "<Figure size 640x480 with 1 Axes>"
      ]
     },
     "metadata": {},
     "output_type": "display_data"
    }
   ],
   "source": [
    "sns.boxplot(df['screen_size'])"
   ]
  },
  {
   "cell_type": "code",
   "execution_count": 54,
   "id": "5466011d-d279-45b6-9668-de65cec28b74",
   "metadata": {},
   "outputs": [
    {
     "data": {
      "text/plain": [
       "extended_memory\n",
       "0                385\n",
       "1 TB             262\n",
       "512 GB           116\n",
       "256 GB           104\n",
       "Not Specified     88\n",
       "128 GB            10\n",
       "2 TB               8\n",
       "32 GB              3\n",
       "64 GB              3\n",
       "1000 GB            1\n",
       "Name: count, dtype: int64"
      ]
     },
     "execution_count": 54,
     "metadata": {},
     "output_type": "execute_result"
    }
   ],
   "source": [
    "df['extended_memory'].value_counts()"
   ]
  },
  {
   "cell_type": "code",
   "execution_count": 55,
   "id": "a38904f2-7d56-4a0b-bd1e-494f095aa5ac",
   "metadata": {},
   "outputs": [],
   "source": [
    "df['extended_memory_available'] = df['extended_memory'].apply(lambda x: 0 if x == '0' else 1)"
   ]
  },
  {
   "cell_type": "code",
   "execution_count": 56,
   "id": "7239b240-aeb3-42dc-89df-5a0d029ad8d8",
   "metadata": {},
   "outputs": [],
   "source": [
    "def extended_extractor(row):\n",
    "\n",
    "    if row['extended_memory_available'] == 0:\n",
    "        return np.nan\n",
    "    else:\n",
    "        if row['extended_memory'] == '1 TB':\n",
    "            return 1000\n",
    "        elif row['extended_memory'] == '512 GB':\n",
    "            return 512\n",
    "        elif row['extended_memory'] == '256 GB':\n",
    "            return 256\n",
    "        elif row['extended_memory'] == 'Not Specified':\n",
    "            return np.nan\n",
    "        elif row['extended_memory'] == 'Memory Card (Hybrid)':\n",
    "            return np.nan\n",
    "        elif row['extended_memory'] == '128 GB':\n",
    "            return 128\n",
    "        elif row['extended_memory'] == '2 TB':\n",
    "            return 2048\n",
    "        elif row['extended_memory'] == '32 GB':\n",
    "            return 32\n",
    "        elif row['extended_memory'] == '64 GB':\n",
    "            return 64\n",
    "        elif row['extended_memory'] == '1000 GB':\n",
    "            return 1000"
   ]
  },
  {
   "cell_type": "code",
   "execution_count": 57,
   "id": "521c3233-b875-4f19-9a8f-24faa99f5765",
   "metadata": {},
   "outputs": [],
   "source": [
    "def extended_extractor(row):\n",
    "\n",
    "  if row['extended_memory_available'] == 0:\n",
    "    return np.nan\n",
    "  else:\n",
    "    if row['extended_memory'] == 'Not Specified':\n",
    "      return np.nan\n",
    "    elif row['extended_memory'] == 'Memory Card (Hybrid)':\n",
    "      return np.nan\n",
    "    else:\n",
    "      return row['extended_memory']\n"
   ]
  },
  {
   "cell_type": "code",
   "execution_count": 58,
   "id": "9d13a93d-897f-49bc-957a-482730e0c4a9",
   "metadata": {},
   "outputs": [
    {
     "data": {
      "text/plain": [
       "0                  0\n",
       "1               1 TB\n",
       "2               1 TB\n",
       "3               1 TB\n",
       "4                  0\n",
       "5               1 TB\n",
       "6                  0\n",
       "7                  0\n",
       "8                  0\n",
       "9                  0\n",
       "10              1 TB\n",
       "11     Not Specified\n",
       "12                 0\n",
       "13              1 TB\n",
       "14                 0\n",
       "15                 0\n",
       "16     Not Specified\n",
       "17                 0\n",
       "18                 0\n",
       "19              1 TB\n",
       "20                 0\n",
       "21                 0\n",
       "22              1 TB\n",
       "23              1 TB\n",
       "24                 0\n",
       "25                 0\n",
       "26              1 TB\n",
       "27                 0\n",
       "28              1 TB\n",
       "29                 0\n",
       "30              1 TB\n",
       "31                 0\n",
       "32     Not Specified\n",
       "33                 0\n",
       "34              1 TB\n",
       "35                 0\n",
       "36              1 TB\n",
       "37                 0\n",
       "38            512 GB\n",
       "39                 0\n",
       "40              1 TB\n",
       "41              1 TB\n",
       "42              1 TB\n",
       "43                 0\n",
       "44              1 TB\n",
       "45              1 TB\n",
       "46            512 GB\n",
       "47              1 TB\n",
       "48     Not Specified\n",
       "49              1 TB\n",
       "50              1 TB\n",
       "51                 0\n",
       "52            512 GB\n",
       "53              1 TB\n",
       "54              1 TB\n",
       "55              1 TB\n",
       "56                 0\n",
       "57            512 GB\n",
       "58                 0\n",
       "59              1 TB\n",
       "60                 0\n",
       "61                 0\n",
       "62              1 TB\n",
       "63              1 TB\n",
       "64              1 TB\n",
       "65                 0\n",
       "66                 0\n",
       "67                 0\n",
       "68              1 TB\n",
       "69                 0\n",
       "70              1 TB\n",
       "71     Not Specified\n",
       "72              1 TB\n",
       "73                 0\n",
       "74              1 TB\n",
       "75     Not Specified\n",
       "76                 0\n",
       "77              1 TB\n",
       "78              1 TB\n",
       "79            512 GB\n",
       "80                 0\n",
       "81              1 TB\n",
       "82              1 TB\n",
       "83              1 TB\n",
       "84              1 TB\n",
       "85                 0\n",
       "86              1 TB\n",
       "87              1 TB\n",
       "88            512 GB\n",
       "89              1 TB\n",
       "90              1 TB\n",
       "91                 0\n",
       "92              1 TB\n",
       "93                 0\n",
       "94              1 TB\n",
       "95              1 TB\n",
       "96              1 TB\n",
       "97                 0\n",
       "98                 0\n",
       "99              1 TB\n",
       "100                0\n",
       "101           512 GB\n",
       "102                0\n",
       "103             1 TB\n",
       "104           256 GB\n",
       "105                0\n",
       "106                0\n",
       "107                0\n",
       "108             1 TB\n",
       "109                0\n",
       "110                0\n",
       "111                0\n",
       "112                0\n",
       "113             1 TB\n",
       "114           512 GB\n",
       "115                0\n",
       "116             1 TB\n",
       "117                0\n",
       "118                0\n",
       "119                0\n",
       "120                0\n",
       "121                0\n",
       "122                0\n",
       "123             2 TB\n",
       "124             1 TB\n",
       "125                0\n",
       "126             1 TB\n",
       "127             1 TB\n",
       "128             1 TB\n",
       "129                0\n",
       "130           512 GB\n",
       "131           512 GB\n",
       "132             1 TB\n",
       "133                0\n",
       "134             1 TB\n",
       "135             1 TB\n",
       "136                0\n",
       "137             1 TB\n",
       "138             1 TB\n",
       "139                0\n",
       "140             1 TB\n",
       "141                0\n",
       "142             1 TB\n",
       "143           128 GB\n",
       "144    Not Specified\n",
       "145             1 TB\n",
       "146                0\n",
       "147                0\n",
       "148           512 GB\n",
       "149                0\n",
       "150             1 TB\n",
       "151                0\n",
       "152                0\n",
       "153             1 TB\n",
       "154           256 GB\n",
       "155             1 TB\n",
       "156             1 TB\n",
       "157           256 GB\n",
       "158                0\n",
       "159           256 GB\n",
       "160             1 TB\n",
       "161                0\n",
       "162                0\n",
       "163                0\n",
       "164             1 TB\n",
       "165           512 GB\n",
       "166             1 TB\n",
       "167                0\n",
       "168             1 TB\n",
       "169                0\n",
       "170           512 GB\n",
       "171           256 GB\n",
       "172    Not Specified\n",
       "173                0\n",
       "174             1 TB\n",
       "175           512 GB\n",
       "176           256 GB\n",
       "177                0\n",
       "178             1 TB\n",
       "179             1 TB\n",
       "180    Not Specified\n",
       "181           256 GB\n",
       "182                0\n",
       "183             1 TB\n",
       "184             1 TB\n",
       "185                0\n",
       "186             1 TB\n",
       "187           128 GB\n",
       "188                0\n",
       "189           128 GB\n",
       "190    Not Specified\n",
       "191             1 TB\n",
       "192    Not Specified\n",
       "193                0\n",
       "194             1 TB\n",
       "195                0\n",
       "196             1 TB\n",
       "197             1 TB\n",
       "198             1 TB\n",
       "199    Not Specified\n",
       "200             1 TB\n",
       "201                0\n",
       "202                0\n",
       "203                0\n",
       "204           512 GB\n",
       "205                0\n",
       "206             1 TB\n",
       "207           512 GB\n",
       "208                0\n",
       "209                0\n",
       "210                0\n",
       "211             1 TB\n",
       "212           256 GB\n",
       "213             1 TB\n",
       "214                0\n",
       "215                0\n",
       "216           256 GB\n",
       "217                0\n",
       "218             1 TB\n",
       "219                0\n",
       "220                0\n",
       "221             1 TB\n",
       "222                0\n",
       "223           512 GB\n",
       "224             1 TB\n",
       "225           512 GB\n",
       "226             1 TB\n",
       "227                0\n",
       "228                0\n",
       "229                0\n",
       "230                0\n",
       "231    Not Specified\n",
       "232    Not Specified\n",
       "233             1 TB\n",
       "234             1 TB\n",
       "235                0\n",
       "236    Not Specified\n",
       "237             1 TB\n",
       "238             1 TB\n",
       "239           512 GB\n",
       "240    Not Specified\n",
       "241             1 TB\n",
       "242             1 TB\n",
       "243                0\n",
       "244             1 TB\n",
       "245           512 GB\n",
       "246                0\n",
       "247                0\n",
       "248                0\n",
       "249             1 TB\n",
       "250                0\n",
       "251             2 TB\n",
       "252             1 TB\n",
       "253                0\n",
       "254             1 TB\n",
       "255                0\n",
       "256                0\n",
       "257                0\n",
       "258           512 GB\n",
       "259           512 GB\n",
       "260           512 GB\n",
       "261           512 GB\n",
       "262                0\n",
       "263             1 TB\n",
       "264             2 TB\n",
       "265    Not Specified\n",
       "266                0\n",
       "267             1 TB\n",
       "268                0\n",
       "269             1 TB\n",
       "270                0\n",
       "271           512 GB\n",
       "272           512 GB\n",
       "273             1 TB\n",
       "274                0\n",
       "275                0\n",
       "276           256 GB\n",
       "277             1 TB\n",
       "278                0\n",
       "279                0\n",
       "280                0\n",
       "281             1 TB\n",
       "282                0\n",
       "283             1 TB\n",
       "284                0\n",
       "285                0\n",
       "286             2 TB\n",
       "287             1 TB\n",
       "288                0\n",
       "289             1 TB\n",
       "290             1 TB\n",
       "291           512 GB\n",
       "292    Not Specified\n",
       "293             1 TB\n",
       "294                0\n",
       "295           512 GB\n",
       "296                0\n",
       "297           512 GB\n",
       "298    Not Specified\n",
       "299                0\n",
       "300             1 TB\n",
       "301           512 GB\n",
       "302           512 GB\n",
       "303                0\n",
       "304                0\n",
       "305                0\n",
       "306                0\n",
       "307             1 TB\n",
       "308             1 TB\n",
       "309                0\n",
       "310             1 TB\n",
       "311                0\n",
       "312                0\n",
       "313            32 GB\n",
       "314                0\n",
       "315             1 TB\n",
       "316                0\n",
       "317                0\n",
       "318                0\n",
       "319                0\n",
       "320           256 GB\n",
       "321                0\n",
       "322             1 TB\n",
       "323           256 GB\n",
       "324                0\n",
       "325           512 GB\n",
       "326                0\n",
       "327           256 GB\n",
       "328    Not Specified\n",
       "329           256 GB\n",
       "330                0\n",
       "331             1 TB\n",
       "332             1 TB\n",
       "333                0\n",
       "334           512 GB\n",
       "335             1 TB\n",
       "336             1 TB\n",
       "337                0\n",
       "338           512 GB\n",
       "339           512 GB\n",
       "340                0\n",
       "341             1 TB\n",
       "342             1 TB\n",
       "343    Not Specified\n",
       "344                0\n",
       "345                0\n",
       "346                0\n",
       "347             1 TB\n",
       "348             1 TB\n",
       "349           512 GB\n",
       "350           512 GB\n",
       "351           256 GB\n",
       "352                0\n",
       "353             1 TB\n",
       "354             1 TB\n",
       "355    Not Specified\n",
       "356           512 GB\n",
       "357                0\n",
       "358           256 GB\n",
       "359                0\n",
       "360                0\n",
       "361                0\n",
       "362                0\n",
       "363                0\n",
       "364                0\n",
       "365           256 GB\n",
       "366                0\n",
       "367             1 TB\n",
       "368             1 TB\n",
       "369                0\n",
       "370           512 GB\n",
       "371             1 TB\n",
       "372                0\n",
       "373           512 GB\n",
       "374                0\n",
       "375           256 GB\n",
       "376                0\n",
       "377                0\n",
       "378             1 TB\n",
       "379    Not Specified\n",
       "380                0\n",
       "381           256 GB\n",
       "382             1 TB\n",
       "383             1 TB\n",
       "384                0\n",
       "385             1 TB\n",
       "386             1 TB\n",
       "387             1 TB\n",
       "388           256 GB\n",
       "389                0\n",
       "390             1 TB\n",
       "391    Not Specified\n",
       "392           256 GB\n",
       "393           512 GB\n",
       "394    Not Specified\n",
       "395           512 GB\n",
       "396                0\n",
       "397                0\n",
       "398                0\n",
       "399           512 GB\n",
       "400             1 TB\n",
       "401             1 TB\n",
       "402             1 TB\n",
       "403                0\n",
       "404                0\n",
       "405             1 TB\n",
       "406                0\n",
       "407    Not Specified\n",
       "408             1 TB\n",
       "409             1 TB\n",
       "410    Not Specified\n",
       "411                0\n",
       "412                0\n",
       "413                0\n",
       "414           512 GB\n",
       "415                0\n",
       "416                0\n",
       "417                0\n",
       "418                0\n",
       "419                0\n",
       "420                0\n",
       "421                0\n",
       "422                0\n",
       "423           256 GB\n",
       "424                0\n",
       "425    Not Specified\n",
       "426           512 GB\n",
       "427                0\n",
       "428             1 TB\n",
       "429           512 GB\n",
       "430                0\n",
       "431    Not Specified\n",
       "432             1 TB\n",
       "433             1 TB\n",
       "434           512 GB\n",
       "435                0\n",
       "436             1 TB\n",
       "437                0\n",
       "438           512 GB\n",
       "439             1 TB\n",
       "440           512 GB\n",
       "441                0\n",
       "442                0\n",
       "443           512 GB\n",
       "444                0\n",
       "445             1 TB\n",
       "446           512 GB\n",
       "447                0\n",
       "448             1 TB\n",
       "449                0\n",
       "450             1 TB\n",
       "451           512 GB\n",
       "452                0\n",
       "453           512 GB\n",
       "454                0\n",
       "455    Not Specified\n",
       "456           512 GB\n",
       "457             1 TB\n",
       "458                0\n",
       "459                0\n",
       "460                0\n",
       "461             1 TB\n",
       "462           512 GB\n",
       "463           256 GB\n",
       "464             1 TB\n",
       "465    Not Specified\n",
       "466                0\n",
       "467           256 GB\n",
       "468           512 GB\n",
       "469             1 TB\n",
       "470             1 TB\n",
       "471           256 GB\n",
       "472           128 GB\n",
       "473            64 GB\n",
       "474             1 TB\n",
       "475             1 TB\n",
       "476    Not Specified\n",
       "477                0\n",
       "478           256 GB\n",
       "479             1 TB\n",
       "480             1 TB\n",
       "481                0\n",
       "482           256 GB\n",
       "483                0\n",
       "484             1 TB\n",
       "485    Not Specified\n",
       "486    Not Specified\n",
       "487                0\n",
       "488    Not Specified\n",
       "489                0\n",
       "490             1 TB\n",
       "491                0\n",
       "492             1 TB\n",
       "493             1 TB\n",
       "494                0\n",
       "495           512 GB\n",
       "496             1 TB\n",
       "497             1 TB\n",
       "498                0\n",
       "499                0\n",
       "500                0\n",
       "501           512 GB\n",
       "502                0\n",
       "503           256 GB\n",
       "504             1 TB\n",
       "505             1 TB\n",
       "506             1 TB\n",
       "507                0\n",
       "508             1 TB\n",
       "509                0\n",
       "510                0\n",
       "511                0\n",
       "512             1 TB\n",
       "513                0\n",
       "514                0\n",
       "515             1 TB\n",
       "516    Not Specified\n",
       "517                0\n",
       "518             1 TB\n",
       "519                0\n",
       "520                0\n",
       "521                0\n",
       "522    Not Specified\n",
       "523             1 TB\n",
       "524             1 TB\n",
       "525           512 GB\n",
       "526                0\n",
       "527                0\n",
       "528           256 GB\n",
       "529           256 GB\n",
       "530           512 GB\n",
       "531           512 GB\n",
       "532                0\n",
       "533                0\n",
       "534             1 TB\n",
       "535    Not Specified\n",
       "536                0\n",
       "537                0\n",
       "538    Not Specified\n",
       "539          1000 GB\n",
       "540             1 TB\n",
       "541             1 TB\n",
       "542    Not Specified\n",
       "543                0\n",
       "544           512 GB\n",
       "545                0\n",
       "546           256 GB\n",
       "547             1 TB\n",
       "548                0\n",
       "549             1 TB\n",
       "550                0\n",
       "551           256 GB\n",
       "552                0\n",
       "553             1 TB\n",
       "554             1 TB\n",
       "555           256 GB\n",
       "556                0\n",
       "557                0\n",
       "558             1 TB\n",
       "559                0\n",
       "560                0\n",
       "561             2 TB\n",
       "562           512 GB\n",
       "563             1 TB\n",
       "564    Not Specified\n",
       "565             1 TB\n",
       "566    Not Specified\n",
       "567             1 TB\n",
       "568                0\n",
       "569                0\n",
       "570    Not Specified\n",
       "571                0\n",
       "572                0\n",
       "573                0\n",
       "574           512 GB\n",
       "575             1 TB\n",
       "576           256 GB\n",
       "577           512 GB\n",
       "578    Not Specified\n",
       "579                0\n",
       "580             1 TB\n",
       "581                0\n",
       "582                0\n",
       "583           256 GB\n",
       "584           512 GB\n",
       "585    Not Specified\n",
       "586    Not Specified\n",
       "587           512 GB\n",
       "588           256 GB\n",
       "589             1 TB\n",
       "590                0\n",
       "591           256 GB\n",
       "592                0\n",
       "593             1 TB\n",
       "594                0\n",
       "595                0\n",
       "596             1 TB\n",
       "597             1 TB\n",
       "598             1 TB\n",
       "599                0\n",
       "600    Not Specified\n",
       "601                0\n",
       "602             1 TB\n",
       "603             1 TB\n",
       "604             1 TB\n",
       "605           512 GB\n",
       "606             1 TB\n",
       "607           256 GB\n",
       "608           256 GB\n",
       "609             1 TB\n",
       "610           256 GB\n",
       "611    Not Specified\n",
       "612                0\n",
       "613                0\n",
       "614                0\n",
       "615                0\n",
       "616                0\n",
       "617    Not Specified\n",
       "618                0\n",
       "619                0\n",
       "620             1 TB\n",
       "621                0\n",
       "622                0\n",
       "623                0\n",
       "624    Not Specified\n",
       "625                0\n",
       "626                0\n",
       "627                0\n",
       "628                0\n",
       "629             1 TB\n",
       "630             1 TB\n",
       "631           256 GB\n",
       "632           256 GB\n",
       "633                0\n",
       "634                0\n",
       "635             1 TB\n",
       "636    Not Specified\n",
       "637           512 GB\n",
       "638                0\n",
       "639                0\n",
       "640                0\n",
       "641                0\n",
       "642    Not Specified\n",
       "643                0\n",
       "644           256 GB\n",
       "645             1 TB\n",
       "646           128 GB\n",
       "647    Not Specified\n",
       "648                0\n",
       "649                0\n",
       "650    Not Specified\n",
       "651           512 GB\n",
       "652           256 GB\n",
       "653    Not Specified\n",
       "654           512 GB\n",
       "655    Not Specified\n",
       "656                0\n",
       "657           512 GB\n",
       "658           512 GB\n",
       "659                0\n",
       "660                0\n",
       "661             1 TB\n",
       "662             2 TB\n",
       "663             1 TB\n",
       "664           512 GB\n",
       "665                0\n",
       "666             1 TB\n",
       "667             1 TB\n",
       "668             1 TB\n",
       "669           128 GB\n",
       "670           512 GB\n",
       "671             1 TB\n",
       "672             1 TB\n",
       "673             1 TB\n",
       "674           256 GB\n",
       "675                0\n",
       "676           512 GB\n",
       "677                0\n",
       "678                0\n",
       "679           512 GB\n",
       "680                0\n",
       "681                0\n",
       "682                0\n",
       "683             1 TB\n",
       "684           256 GB\n",
       "685           512 GB\n",
       "686           256 GB\n",
       "687                0\n",
       "688           512 GB\n",
       "689           256 GB\n",
       "690           512 GB\n",
       "691           256 GB\n",
       "692             1 TB\n",
       "693           512 GB\n",
       "694             1 TB\n",
       "695           256 GB\n",
       "696           256 GB\n",
       "697             1 TB\n",
       "698                0\n",
       "699                0\n",
       "700                0\n",
       "701                0\n",
       "702                0\n",
       "703             1 TB\n",
       "704           256 GB\n",
       "705             1 TB\n",
       "706                0\n",
       "707             2 TB\n",
       "708           256 GB\n",
       "709    Not Specified\n",
       "710                0\n",
       "711           512 GB\n",
       "712                0\n",
       "713    Not Specified\n",
       "714           256 GB\n",
       "715                0\n",
       "716           256 GB\n",
       "717    Not Specified\n",
       "718                0\n",
       "719    Not Specified\n",
       "720                0\n",
       "721           512 GB\n",
       "722            32 GB\n",
       "723                0\n",
       "724                0\n",
       "725           512 GB\n",
       "726             1 TB\n",
       "727           256 GB\n",
       "728           256 GB\n",
       "729           256 GB\n",
       "730           256 GB\n",
       "731           256 GB\n",
       "732           512 GB\n",
       "733           128 GB\n",
       "734                0\n",
       "735                0\n",
       "736                0\n",
       "737                0\n",
       "738             1 TB\n",
       "739                0\n",
       "740                0\n",
       "741                0\n",
       "742                0\n",
       "743                0\n",
       "744                0\n",
       "745                0\n",
       "746             1 TB\n",
       "747                0\n",
       "748             1 TB\n",
       "749                0\n",
       "750             1 TB\n",
       "751             1 TB\n",
       "752                0\n",
       "753           256 GB\n",
       "754             1 TB\n",
       "755           512 GB\n",
       "756                0\n",
       "757    Not Specified\n",
       "758                0\n",
       "759             1 TB\n",
       "760                0\n",
       "761           256 GB\n",
       "762             1 TB\n",
       "763           256 GB\n",
       "764    Not Specified\n",
       "765                0\n",
       "766             1 TB\n",
       "767           256 GB\n",
       "768           256 GB\n",
       "769            32 GB\n",
       "770           512 GB\n",
       "771                0\n",
       "772           512 GB\n",
       "773             1 TB\n",
       "774           256 GB\n",
       "775           256 GB\n",
       "776           256 GB\n",
       "777           256 GB\n",
       "778           256 GB\n",
       "779           256 GB\n",
       "780           512 GB\n",
       "781                0\n",
       "782                0\n",
       "783             1 TB\n",
       "784             1 TB\n",
       "785                0\n",
       "786    Not Specified\n",
       "787                0\n",
       "788                0\n",
       "789                0\n",
       "790             1 TB\n",
       "791           512 GB\n",
       "792    Not Specified\n",
       "793    Not Specified\n",
       "794                0\n",
       "795             1 TB\n",
       "796                0\n",
       "797    Not Specified\n",
       "798           512 GB\n",
       "799                0\n",
       "800             1 TB\n",
       "801                0\n",
       "802             1 TB\n",
       "803    Not Specified\n",
       "804           512 GB\n",
       "805             1 TB\n",
       "806                0\n",
       "807             1 TB\n",
       "808             1 TB\n",
       "809                0\n",
       "810             1 TB\n",
       "811    Not Specified\n",
       "812           512 GB\n",
       "813                0\n",
       "814           256 GB\n",
       "815                0\n",
       "816                0\n",
       "817           128 GB\n",
       "818           512 GB\n",
       "819    Not Specified\n",
       "820                0\n",
       "821                0\n",
       "822             1 TB\n",
       "823                0\n",
       "824                0\n",
       "825           512 GB\n",
       "826           256 GB\n",
       "827    Not Specified\n",
       "828                0\n",
       "829           256 GB\n",
       "830                0\n",
       "831           256 GB\n",
       "832           256 GB\n",
       "833           256 GB\n",
       "834           256 GB\n",
       "835           512 GB\n",
       "836           512 GB\n",
       "837           512 GB\n",
       "838                0\n",
       "839           512 GB\n",
       "840           512 GB\n",
       "841           256 GB\n",
       "842           128 GB\n",
       "843             2 TB\n",
       "844                0\n",
       "845             1 TB\n",
       "846    Not Specified\n",
       "847           512 GB\n",
       "848             1 TB\n",
       "849           512 GB\n",
       "850             1 TB\n",
       "851                0\n",
       "852    Not Specified\n",
       "853                0\n",
       "854           256 GB\n",
       "855                0\n",
       "856             1 TB\n",
       "857                0\n",
       "858                0\n",
       "859           512 GB\n",
       "860    Not Specified\n",
       "861           256 GB\n",
       "862                0\n",
       "863                0\n",
       "864    Not Specified\n",
       "865                0\n",
       "866    Not Specified\n",
       "867           256 GB\n",
       "868           256 GB\n",
       "869             1 TB\n",
       "870           256 GB\n",
       "871                0\n",
       "872           256 GB\n",
       "873           256 GB\n",
       "874                0\n",
       "875                0\n",
       "876                0\n",
       "877           256 GB\n",
       "878             1 TB\n",
       "879           256 GB\n",
       "880                0\n",
       "881                0\n",
       "882           256 GB\n",
       "883           512 GB\n",
       "884           256 GB\n",
       "885                0\n",
       "886             1 TB\n",
       "887                0\n",
       "888           512 GB\n",
       "889           256 GB\n",
       "890    Not Specified\n",
       "891            64 GB\n",
       "892                0\n",
       "893    Not Specified\n",
       "894           256 GB\n",
       "895                0\n",
       "896                0\n",
       "897    Not Specified\n",
       "898           512 GB\n",
       "899    Not Specified\n",
       "900           256 GB\n",
       "901                0\n",
       "902                0\n",
       "903                0\n",
       "904                0\n",
       "905                0\n",
       "906                0\n",
       "907                0\n",
       "908                0\n",
       "909                0\n",
       "910             1 TB\n",
       "911             1 TB\n",
       "912           512 GB\n",
       "913                0\n",
       "914             1 TB\n",
       "915             1 TB\n",
       "916                0\n",
       "917                0\n",
       "918           256 GB\n",
       "919                0\n",
       "920    Not Specified\n",
       "921             1 TB\n",
       "922             1 TB\n",
       "923                0\n",
       "924                0\n",
       "925           256 GB\n",
       "926    Not Specified\n",
       "927    Not Specified\n",
       "928             1 TB\n",
       "929                0\n",
       "930                0\n",
       "931           256 GB\n",
       "932           256 GB\n",
       "933                0\n",
       "934    Not Specified\n",
       "935             1 TB\n",
       "936                0\n",
       "937                0\n",
       "938           512 GB\n",
       "939           512 GB\n",
       "940           512 GB\n",
       "941           512 GB\n",
       "942    Not Specified\n",
       "943           256 GB\n",
       "944           256 GB\n",
       "945           128 GB\n",
       "946           256 GB\n",
       "947                0\n",
       "948           256 GB\n",
       "949                0\n",
       "950             1 TB\n",
       "951           256 GB\n",
       "952           512 GB\n",
       "953           256 GB\n",
       "954           256 GB\n",
       "955           512 GB\n",
       "956           512 GB\n",
       "957    Not Specified\n",
       "958           512 GB\n",
       "959    Not Specified\n",
       "960    Not Specified\n",
       "961             1 TB\n",
       "962             1 TB\n",
       "963           512 GB\n",
       "964                0\n",
       "965            64 GB\n",
       "966    Not Specified\n",
       "967                0\n",
       "968                0\n",
       "969                0\n",
       "970             1 TB\n",
       "971                0\n",
       "972                0\n",
       "973                0\n",
       "974                0\n",
       "975                0\n",
       "976             1 TB\n",
       "977                0\n",
       "978             1 TB\n",
       "979             1 TB\n",
       "Name: extended_memory, dtype: object"
      ]
     },
     "execution_count": 58,
     "metadata": {},
     "output_type": "execute_result"
    }
   ],
   "source": [
    "df['extended_memory']"
   ]
  },
  {
   "cell_type": "code",
   "execution_count": 59,
   "id": "d126e1c7-0280-4c60-8dcf-48cdb0f1efed",
   "metadata": {},
   "outputs": [],
   "source": [
    "x = df.apply(extended_extractor,axis=1).str.replace('\\u2009',' ').str.split(' ').str.get(0)"
   ]
  },
  {
   "cell_type": "code",
   "execution_count": 60,
   "id": "7b3486f6-2ffe-41e7-a798-ed94adbee30e",
   "metadata": {},
   "outputs": [],
   "source": [
    "df['extended_upto'] = x"
   ]
  },
  {
   "cell_type": "code",
   "execution_count": 61,
   "id": "3e0ec427-71fb-4286-8329-e25a6ce0b636",
   "metadata": {},
   "outputs": [
    {
     "data": {
      "text/plain": [
       "extended_upto\n",
       "1       262\n",
       "512     116\n",
       "256     104\n",
       "128      10\n",
       "2         8\n",
       "32        3\n",
       "64        3\n",
       "1000      1\n",
       "Name: count, dtype: int64"
      ]
     },
     "execution_count": 61,
     "metadata": {},
     "output_type": "execute_result"
    }
   ],
   "source": [
    "df['extended_upto'].value_counts()"
   ]
  },
  {
   "cell_type": "code",
   "execution_count": 62,
   "id": "b6063ec1-8828-4702-80fb-82058171529c",
   "metadata": {},
   "outputs": [],
   "source": [
    "def transform(text):\n",
    "\n",
    "  if text == '1':\n",
    "    return '1024'\n",
    "  elif text == '2':\n",
    "    return '2048'\n",
    "  elif text == '1000':\n",
    "    return '1024'\n",
    "  else:\n",
    "    return text"
   ]
  },
  {
   "cell_type": "code",
   "execution_count": 63,
   "id": "4b685c08-e261-40e1-8a4d-76212bb1b2a9",
   "metadata": {},
   "outputs": [],
   "source": [
    "df['extended_upto'] = df['extended_upto'].apply(transform)"
   ]
  },
  {
   "cell_type": "code",
   "execution_count": 64,
   "id": "2bb0ba3a-588e-404d-a0d9-4e515ae785f2",
   "metadata": {},
   "outputs": [],
   "source": [
    "df.drop(columns=['processor_name','extended_memory'],inplace=True)"
   ]
  },
  {
   "cell_type": "code",
   "execution_count": 65,
   "id": "3f18f5ba-a3ef-40cb-a23e-3d399813a871",
   "metadata": {},
   "outputs": [
    {
     "data": {
      "text/plain": [
       "brand_name                     0\n",
       "model                          0\n",
       "price                          0\n",
       "rating                       101\n",
       "has_5G                         0\n",
       "has_nfc                        0\n",
       "has_ir_blaster                 0\n",
       "processor_brand               20\n",
       "core                           6\n",
       "processor_speed               42\n",
       "ram_capacity                   0\n",
       "fast_charging_available        0\n",
       "internal_memory                0\n",
       "battery_capacity              11\n",
       "fast_charging                211\n",
       "screen_size                    0\n",
       "resolution                     0\n",
       "refresh_rate                   0\n",
       "num_rear_cameras               0\n",
       "num_front_cameras              0\n",
       "primary_camera_rear            0\n",
       "primary_camera_front           4\n",
       "os                            14\n",
       "extended_memory_available      0\n",
       "extended_upto                473\n",
       "dtype: int64"
      ]
     },
     "execution_count": 65,
     "metadata": {},
     "output_type": "execute_result"
    }
   ],
   "source": [
    "df.isnull().sum()"
   ]
  },
  {
   "cell_type": "code",
   "execution_count": null,
   "id": "34f368c3-9233-42bb-9413-65492d579d2c",
   "metadata": {},
   "outputs": [],
   "source": []
  },
  {
   "cell_type": "code",
   "execution_count": 66,
   "id": "522ff95e-5226-4c63-940d-c7afbed6a22c",
   "metadata": {},
   "outputs": [
    {
     "name": "stdout",
     "output_type": "stream",
     "text": [
      "<class 'pandas.core.frame.DataFrame'>\n",
      "RangeIndex: 980 entries, 0 to 979\n",
      "Data columns (total 25 columns):\n",
      " #   Column                     Non-Null Count  Dtype  \n",
      "---  ------                     --------------  -----  \n",
      " 0   brand_name                 980 non-null    object \n",
      " 1   model                      980 non-null    object \n",
      " 2   price                      980 non-null    int64  \n",
      " 3   rating                     879 non-null    float64\n",
      " 4   has_5G                     980 non-null    bool   \n",
      " 5   has_nfc                    980 non-null    bool   \n",
      " 6   has_ir_blaster             980 non-null    bool   \n",
      " 7   processor_brand            960 non-null    object \n",
      " 8   core                       974 non-null    object \n",
      " 9   processor_speed            938 non-null    float64\n",
      " 10  ram_capacity               980 non-null    float64\n",
      " 11  fast_charging_available    980 non-null    int64  \n",
      " 12  internal_memory            980 non-null    float64\n",
      " 13  battery_capacity           969 non-null    float64\n",
      " 14  fast_charging              769 non-null    float64\n",
      " 15  screen_size                980 non-null    float64\n",
      " 16  resolution                 980 non-null    object \n",
      " 17  refresh_rate               980 non-null    int64  \n",
      " 18  num_rear_cameras           980 non-null    int64  \n",
      " 19  num_front_cameras          980 non-null    object \n",
      " 20  primary_camera_rear        980 non-null    float64\n",
      " 21  primary_camera_front       976 non-null    object \n",
      " 22  os                         966 non-null    object \n",
      " 23  extended_memory_available  980 non-null    int64  \n",
      " 24  extended_upto              507 non-null    object \n",
      "dtypes: bool(3), float64(8), int64(5), object(9)\n",
      "memory usage: 171.4+ KB\n"
     ]
    }
   ],
   "source": [
    "df.info()"
   ]
  },
  {
   "cell_type": "code",
   "execution_count": 67,
   "id": "cc2e1aee-ffe0-4d67-8271-acd95383eb15",
   "metadata": {},
   "outputs": [
    {
     "data": {
      "text/plain": [
       "num_front_cameras\n",
       "1          947\n",
       "2           29\n",
       "Missing      4\n",
       "Name: count, dtype: int64"
      ]
     },
     "execution_count": 67,
     "metadata": {},
     "output_type": "execute_result"
    }
   ],
   "source": [
    "df['num_front_cameras'].value_counts()"
   ]
  },
  {
   "cell_type": "code",
   "execution_count": 68,
   "id": "4802c74f-618c-47fc-9cfe-2fdc810a4dab",
   "metadata": {},
   "outputs": [],
   "source": [
    "def front_camera_extract(text):\n",
    "    if text == '1':\n",
    "        return 1\n",
    "    elif text == '2':\n",
    "        return 2\n",
    "    elif text == 'Missing':\n",
    "        return np.nan"
   ]
  },
  {
   "cell_type": "code",
   "execution_count": 69,
   "id": "bc8ed151-5058-4110-8ea4-a3fae9a1e324",
   "metadata": {},
   "outputs": [],
   "source": [
    "df['num_front_cameras'] = df['num_front_cameras'].apply(front_camera_extract)"
   ]
  },
  {
   "cell_type": "code",
   "execution_count": 70,
   "id": "cb334714-3b6a-46ca-8585-183bb7c9f28a",
   "metadata": {},
   "outputs": [],
   "source": [
    "temp_df = df[df['primary_camera_front']== 'Main']"
   ]
  },
  {
   "cell_type": "code",
   "execution_count": 71,
   "id": "bbaec36b-2aa9-4828-bf4d-e98631742484",
   "metadata": {},
   "outputs": [],
   "source": [
    "df.loc[temp_df.index, 'primary_camera_front'] = 20"
   ]
  },
  {
   "cell_type": "code",
   "execution_count": 72,
   "id": "3e7961a0-ed32-452d-a035-82d9ac0494c1",
   "metadata": {},
   "outputs": [],
   "source": [
    "df['primary_camera_front'] = df['primary_camera_front'].astype(float)"
   ]
  },
  {
   "cell_type": "code",
   "execution_count": 73,
   "id": "33f276f9-01b3-4449-b81d-47d4f5390c1c",
   "metadata": {},
   "outputs": [
    {
     "data": {
      "text/plain": [
       "core\n",
       "Octa Core    899\n",
       "Hexa Core     39\n",
       "Quad Core     36\n",
       "Name: count, dtype: int64"
      ]
     },
     "execution_count": 73,
     "metadata": {},
     "output_type": "execute_result"
    }
   ],
   "source": [
    "df['core'].value_counts()"
   ]
  },
  {
   "cell_type": "code",
   "execution_count": 74,
   "id": "edb6e5d8-805a-41cd-9caa-961c2bb3397b",
   "metadata": {},
   "outputs": [],
   "source": [
    "df['core'] = df['core'].str.replace('Octa Core','8')\n",
    "df['core'] = df['core'].str.replace('Hexa Core','6')\n",
    "df['core'] = df['core'].str.replace('Quad Core','4')"
   ]
  },
  {
   "cell_type": "code",
   "execution_count": 75,
   "id": "569eb51f-07e9-4e73-b4c4-f83a906478fb",
   "metadata": {},
   "outputs": [],
   "source": [
    "df['extended_upto'] = df['extended_upto'].astype(float)"
   ]
  },
  {
   "cell_type": "code",
   "execution_count": 76,
   "id": "1a701b4b-b548-4e2e-924d-cf43f8db26af",
   "metadata": {},
   "outputs": [],
   "source": [
    "df['core'] = df['core'].astype(float)"
   ]
  },
  {
   "cell_type": "code",
   "execution_count": 77,
   "id": "18765ce6-05a6-49a8-956e-6bf9a6d285d6",
   "metadata": {},
   "outputs": [
    {
     "data": {
      "text/html": [
       "<div>\n",
       "<style scoped>\n",
       "    .dataframe tbody tr th:only-of-type {\n",
       "        vertical-align: middle;\n",
       "    }\n",
       "\n",
       "    .dataframe tbody tr th {\n",
       "        vertical-align: top;\n",
       "    }\n",
       "\n",
       "    .dataframe thead th {\n",
       "        text-align: right;\n",
       "    }\n",
       "</style>\n",
       "<table border=\"1\" class=\"dataframe\">\n",
       "  <thead>\n",
       "    <tr style=\"text-align: right;\">\n",
       "      <th></th>\n",
       "      <th>brand_name</th>\n",
       "      <th>model</th>\n",
       "      <th>price</th>\n",
       "      <th>rating</th>\n",
       "      <th>has_5G</th>\n",
       "      <th>has_nfc</th>\n",
       "      <th>has_ir_blaster</th>\n",
       "      <th>processor_brand</th>\n",
       "      <th>core</th>\n",
       "      <th>processor_speed</th>\n",
       "      <th>ram_capacity</th>\n",
       "      <th>fast_charging_available</th>\n",
       "      <th>internal_memory</th>\n",
       "      <th>battery_capacity</th>\n",
       "      <th>fast_charging</th>\n",
       "      <th>screen_size</th>\n",
       "      <th>resolution</th>\n",
       "      <th>refresh_rate</th>\n",
       "      <th>num_rear_cameras</th>\n",
       "      <th>num_front_cameras</th>\n",
       "      <th>primary_camera_rear</th>\n",
       "      <th>primary_camera_front</th>\n",
       "      <th>os</th>\n",
       "      <th>extended_memory_available</th>\n",
       "      <th>extended_upto</th>\n",
       "    </tr>\n",
       "  </thead>\n",
       "  <tbody>\n",
       "    <tr>\n",
       "      <th>0</th>\n",
       "      <td>oneplus</td>\n",
       "      <td>OnePlus 11 5G</td>\n",
       "      <td>54999</td>\n",
       "      <td>89.0</td>\n",
       "      <td>True</td>\n",
       "      <td>True</td>\n",
       "      <td>False</td>\n",
       "      <td>Snapdragon</td>\n",
       "      <td>8.0</td>\n",
       "      <td>3.2</td>\n",
       "      <td>12.0</td>\n",
       "      <td>1</td>\n",
       "      <td>256.0</td>\n",
       "      <td>5000.0</td>\n",
       "      <td>100.0</td>\n",
       "      <td>6.70</td>\n",
       "      <td>1440 x 3216</td>\n",
       "      <td>120</td>\n",
       "      <td>3</td>\n",
       "      <td>1.0</td>\n",
       "      <td>50.0</td>\n",
       "      <td>16.0</td>\n",
       "      <td>android</td>\n",
       "      <td>0</td>\n",
       "      <td>NaN</td>\n",
       "    </tr>\n",
       "    <tr>\n",
       "      <th>1</th>\n",
       "      <td>oneplus</td>\n",
       "      <td>OnePlus Nord CE 2 Lite 5G</td>\n",
       "      <td>19989</td>\n",
       "      <td>81.0</td>\n",
       "      <td>True</td>\n",
       "      <td>False</td>\n",
       "      <td>False</td>\n",
       "      <td>Snapdragon</td>\n",
       "      <td>8.0</td>\n",
       "      <td>2.2</td>\n",
       "      <td>6.0</td>\n",
       "      <td>1</td>\n",
       "      <td>128.0</td>\n",
       "      <td>5000.0</td>\n",
       "      <td>33.0</td>\n",
       "      <td>6.59</td>\n",
       "      <td>1080 x 2412</td>\n",
       "      <td>120</td>\n",
       "      <td>3</td>\n",
       "      <td>1.0</td>\n",
       "      <td>64.0</td>\n",
       "      <td>16.0</td>\n",
       "      <td>android</td>\n",
       "      <td>1</td>\n",
       "      <td>1024.0</td>\n",
       "    </tr>\n",
       "    <tr>\n",
       "      <th>2</th>\n",
       "      <td>samsung</td>\n",
       "      <td>Samsung Galaxy A14 5G</td>\n",
       "      <td>16499</td>\n",
       "      <td>75.0</td>\n",
       "      <td>True</td>\n",
       "      <td>False</td>\n",
       "      <td>False</td>\n",
       "      <td>Exynos</td>\n",
       "      <td>8.0</td>\n",
       "      <td>2.4</td>\n",
       "      <td>4.0</td>\n",
       "      <td>1</td>\n",
       "      <td>64.0</td>\n",
       "      <td>5000.0</td>\n",
       "      <td>15.0</td>\n",
       "      <td>6.60</td>\n",
       "      <td>1080 x 2408</td>\n",
       "      <td>90</td>\n",
       "      <td>3</td>\n",
       "      <td>1.0</td>\n",
       "      <td>50.0</td>\n",
       "      <td>13.0</td>\n",
       "      <td>android</td>\n",
       "      <td>1</td>\n",
       "      <td>1024.0</td>\n",
       "    </tr>\n",
       "    <tr>\n",
       "      <th>3</th>\n",
       "      <td>motorola</td>\n",
       "      <td>Motorola Moto G62 5G</td>\n",
       "      <td>14999</td>\n",
       "      <td>81.0</td>\n",
       "      <td>True</td>\n",
       "      <td>False</td>\n",
       "      <td>False</td>\n",
       "      <td>Snapdragon</td>\n",
       "      <td>8.0</td>\n",
       "      <td>2.2</td>\n",
       "      <td>6.0</td>\n",
       "      <td>1</td>\n",
       "      <td>128.0</td>\n",
       "      <td>5000.0</td>\n",
       "      <td>NaN</td>\n",
       "      <td>6.55</td>\n",
       "      <td>1080 x 2400</td>\n",
       "      <td>120</td>\n",
       "      <td>3</td>\n",
       "      <td>1.0</td>\n",
       "      <td>50.0</td>\n",
       "      <td>16.0</td>\n",
       "      <td>android</td>\n",
       "      <td>1</td>\n",
       "      <td>1024.0</td>\n",
       "    </tr>\n",
       "    <tr>\n",
       "      <th>4</th>\n",
       "      <td>realme</td>\n",
       "      <td>Realme 10 Pro Plus</td>\n",
       "      <td>24999</td>\n",
       "      <td>82.0</td>\n",
       "      <td>True</td>\n",
       "      <td>False</td>\n",
       "      <td>False</td>\n",
       "      <td>Dimensity</td>\n",
       "      <td>8.0</td>\n",
       "      <td>2.6</td>\n",
       "      <td>6.0</td>\n",
       "      <td>1</td>\n",
       "      <td>128.0</td>\n",
       "      <td>5000.0</td>\n",
       "      <td>67.0</td>\n",
       "      <td>6.70</td>\n",
       "      <td>1080 x 2412</td>\n",
       "      <td>120</td>\n",
       "      <td>3</td>\n",
       "      <td>1.0</td>\n",
       "      <td>108.0</td>\n",
       "      <td>16.0</td>\n",
       "      <td>android</td>\n",
       "      <td>0</td>\n",
       "      <td>NaN</td>\n",
       "    </tr>\n",
       "  </tbody>\n",
       "</table>\n",
       "</div>"
      ],
      "text/plain": [
       "  brand_name                      model  price  rating  has_5G  has_nfc  \\\n",
       "0    oneplus              OnePlus 11 5G  54999    89.0    True     True   \n",
       "1    oneplus  OnePlus Nord CE 2 Lite 5G  19989    81.0    True    False   \n",
       "2    samsung      Samsung Galaxy A14 5G  16499    75.0    True    False   \n",
       "3   motorola       Motorola Moto G62 5G  14999    81.0    True    False   \n",
       "4     realme         Realme 10 Pro Plus  24999    82.0    True    False   \n",
       "\n",
       "   has_ir_blaster processor_brand  core  processor_speed  ram_capacity  \\\n",
       "0           False      Snapdragon   8.0              3.2          12.0   \n",
       "1           False      Snapdragon   8.0              2.2           6.0   \n",
       "2           False          Exynos   8.0              2.4           4.0   \n",
       "3           False      Snapdragon   8.0              2.2           6.0   \n",
       "4           False       Dimensity   8.0              2.6           6.0   \n",
       "\n",
       "   fast_charging_available  internal_memory  battery_capacity  fast_charging  \\\n",
       "0                        1            256.0            5000.0          100.0   \n",
       "1                        1            128.0            5000.0           33.0   \n",
       "2                        1             64.0            5000.0           15.0   \n",
       "3                        1            128.0            5000.0            NaN   \n",
       "4                        1            128.0            5000.0           67.0   \n",
       "\n",
       "   screen_size    resolution  refresh_rate  num_rear_cameras  \\\n",
       "0         6.70  1440 x 3216            120                 3   \n",
       "1         6.59  1080 x 2412            120                 3   \n",
       "2         6.60  1080 x 2408             90                 3   \n",
       "3         6.55  1080 x 2400            120                 3   \n",
       "4         6.70  1080 x 2412            120                 3   \n",
       "\n",
       "   num_front_cameras  primary_camera_rear  primary_camera_front       os  \\\n",
       "0                1.0                 50.0                  16.0  android   \n",
       "1                1.0                 64.0                  16.0  android   \n",
       "2                1.0                 50.0                  13.0  android   \n",
       "3                1.0                 50.0                  16.0  android   \n",
       "4                1.0                108.0                  16.0  android   \n",
       "\n",
       "   extended_memory_available  extended_upto  \n",
       "0                          0            NaN  \n",
       "1                          1         1024.0  \n",
       "2                          1         1024.0  \n",
       "3                          1         1024.0  \n",
       "4                          0            NaN  "
      ]
     },
     "execution_count": 77,
     "metadata": {},
     "output_type": "execute_result"
    }
   ],
   "source": [
    "df.head()"
   ]
  },
  {
   "cell_type": "code",
   "execution_count": 78,
   "id": "9cb60af6-704d-4363-af72-814cd614d538",
   "metadata": {},
   "outputs": [],
   "source": [
    "## while performing EDA you should have a gaol-> Why you are performing EDA\n",
    "#1. Simply performing data analysis and sharing your analysis\n",
    "#2. To make predictive modelling -> you should know your prediction column depends on which other features"
   ]
  },
  {
   "cell_type": "code",
   "execution_count": 80,
   "id": "fd2c5afc-4c95-4517-9702-302671f1da3d",
   "metadata": {},
   "outputs": [],
   "source": [
    "df.to_csv(\"smartphones_v3.csv\")"
   ]
  },
  {
   "cell_type": "code",
   "execution_count": null,
   "id": "81d4bd42-3416-441f-b727-b5fa9b76d449",
   "metadata": {},
   "outputs": [],
   "source": []
  },
  {
   "cell_type": "code",
   "execution_count": null,
   "id": "d0292d01-e9cf-4d1f-bfdd-416574db037d",
   "metadata": {},
   "outputs": [],
   "source": []
  },
  {
   "cell_type": "code",
   "execution_count": null,
   "id": "013c3ca0-f198-4eb6-86f2-a2b948b85745",
   "metadata": {},
   "outputs": [],
   "source": []
  },
  {
   "cell_type": "code",
   "execution_count": null,
   "id": "86836149-b2b7-4929-b44a-0b7d98431075",
   "metadata": {},
   "outputs": [],
   "source": []
  },
  {
   "cell_type": "code",
   "execution_count": null,
   "id": "4b420f70-1bcc-4933-936a-7da045e53b31",
   "metadata": {},
   "outputs": [],
   "source": []
  },
  {
   "cell_type": "code",
   "execution_count": null,
   "id": "2377d95a-cb5c-4618-aa4e-0a5e9427bb92",
   "metadata": {},
   "outputs": [],
   "source": []
  }
 ],
 "metadata": {
  "kernelspec": {
   "display_name": "Python 3 (ipykernel)",
   "language": "python",
   "name": "python3"
  },
  "language_info": {
   "codemirror_mode": {
    "name": "ipython",
    "version": 3
   },
   "file_extension": ".py",
   "mimetype": "text/x-python",
   "name": "python",
   "nbconvert_exporter": "python",
   "pygments_lexer": "ipython3",
   "version": "3.11.7"
  }
 },
 "nbformat": 4,
 "nbformat_minor": 5
}
